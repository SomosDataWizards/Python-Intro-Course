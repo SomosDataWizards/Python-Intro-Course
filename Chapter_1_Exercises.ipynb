{
  "nbformat": 4,
  "nbformat_minor": 0,
  "metadata": {
    "colab": {
      "provenance": []
    },
    "kernelspec": {
      "name": "python3",
      "display_name": "Python 3"
    }
  },
  "cells": [
    {
      "cell_type": "markdown",
      "source": [
        "# **Intro to Python for Data Analysis**\n",
        "## Chapter 1: Python Basics - Solutions to Exercises\n",
        "---\n",
        "**Author:** Juan Martin Bellido  \n",
        "\n",
        "**About**  \n",
        "This notebooks includes solutions to exercises on Chapter 1.\n",
        "\n",
        "**Feedback?** Please share on [LinkedIn](https://www.linkedin.com/in/jmartinbellido/)  \n"
      ],
      "metadata": {
        "id": "YXN917o2qjQG"
      }
    },
    {
      "cell_type": "markdown",
      "source": [
        "# Chapter 1: Ejercicios\n",
        "---"
      ],
      "metadata": {
        "id": "HEbKsQLLxcIM"
      }
    },
    {
      "cell_type": "markdown",
      "source": [
        "### Exercise #1\n",
        "\n",
        "Below there is a list containing food names. Iterate with that list so that for each element on it you print the following text:  \n",
        "\n",
        "> I love pizza  \n",
        "I love sushi  \n",
        "I love paella  \n",
        "I love tapas\n",
        "\n",
        "> 👉 You can concatenate text by simply using the operator `+`\n"
      ],
      "metadata": {
        "id": "TMgWrnI2eIUJ"
      }
    },
    {
      "cell_type": "code",
      "source": [
        "# example of concatenating text\n",
        "my_name = 'Martin'\n",
        "print('My name is ' + my_name)"
      ],
      "metadata": {
        "colab": {
          "base_uri": "https://localhost:8080/"
        },
        "id": "slWvr5y2edUp",
        "outputId": "078c827f-84fd-411a-a6d6-2ee2a1dde1b2"
      },
      "execution_count": 1,
      "outputs": [
        {
          "output_type": "stream",
          "name": "stdout",
          "text": [
            "My name is Martin\n"
          ]
        }
      ]
    },
    {
      "cell_type": "code",
      "source": [
        "# use the following list to iterate\n",
        "food_list = ['pizza','sushi','paella','tapas']"
      ],
      "metadata": {
        "id": "MSwaoKAyefeK"
      },
      "execution_count": 2,
      "outputs": []
    },
    {
      "cell_type": "code",
      "source": [
        "# exercise resolution using a for loop\n",
        "for f in food_list:\n",
        "  print('I love ' + f)"
      ],
      "metadata": {
        "colab": {
          "base_uri": "https://localhost:8080/"
        },
        "id": "mAcryTqeeha5",
        "outputId": "70b303b2-3164-4a71-fb9b-889764cbf303"
      },
      "execution_count": 3,
      "outputs": [
        {
          "output_type": "stream",
          "name": "stdout",
          "text": [
            "I love pizza\n",
            "I love sushi\n",
            "I love paella\n",
            "I love tapas\n"
          ]
        }
      ]
    },
    {
      "cell_type": "code",
      "source": [
        "# exercise resolution using comprehension lists\n",
        "[print('I love ' + f) for f in food_list]"
      ],
      "metadata": {
        "colab": {
          "base_uri": "https://localhost:8080/"
        },
        "id": "vHNDKN0JelfV",
        "outputId": "235c3446-e596-43a6-996a-4e521f6daa2a"
      },
      "execution_count": 4,
      "outputs": [
        {
          "output_type": "stream",
          "name": "stdout",
          "text": [
            "I love pizza\n",
            "I love sushi\n",
            "I love paella\n",
            "I love tapas\n"
          ]
        },
        {
          "output_type": "execute_result",
          "data": {
            "text/plain": [
              "[None, None, None, None]"
            ]
          },
          "metadata": {},
          "execution_count": 4
        }
      ]
    },
    {
      "cell_type": "markdown",
      "source": [
        "### Exercise #2\n",
        "\n",
        "Next, we find a different list with food names. Repeat exercise #1, this time avoid displaying \"onions\" and \"garlic\" (without editing the list).\n",
        "\n"
      ],
      "metadata": {
        "id": "ydSzQmule6XV"
      }
    },
    {
      "cell_type": "code",
      "source": [
        "food_list = ['pizza','sushi','onion','paella','garlic','tapas']"
      ],
      "metadata": {
        "id": "WFyC2FbFfmYw"
      },
      "execution_count": 5,
      "outputs": []
    },
    {
      "cell_type": "code",
      "source": [
        "# resolution #1\n",
        "for f in food_list:\n",
        "  if f not in ['onion','garlic']:\n",
        "    print('I love ' + f)"
      ],
      "metadata": {
        "colab": {
          "base_uri": "https://localhost:8080/"
        },
        "id": "wnqL845SfmbF",
        "outputId": "bf28e6f8-ff03-4384-f45b-bf4daa57e452"
      },
      "execution_count": 6,
      "outputs": [
        {
          "output_type": "stream",
          "name": "stdout",
          "text": [
            "I love pizza\n",
            "I love sushi\n",
            "I love paella\n",
            "I love tapas\n"
          ]
        }
      ]
    },
    {
      "cell_type": "code",
      "source": [
        "# resolution #2\n",
        "for f in food_list:\n",
        "  if not f == 'onion' and not f == 'garlic':\n",
        "    print('I love ' + f)"
      ],
      "metadata": {
        "colab": {
          "base_uri": "https://localhost:8080/"
        },
        "id": "YudTgKD6fmdc",
        "outputId": "7508e7a0-4ae3-4b44-a3f7-0077f7084ed0"
      },
      "execution_count": 7,
      "outputs": [
        {
          "output_type": "stream",
          "name": "stdout",
          "text": [
            "I love pizza\n",
            "I love sushi\n",
            "I love paella\n",
            "I love tapas\n"
          ]
        }
      ]
    }
  ]
}