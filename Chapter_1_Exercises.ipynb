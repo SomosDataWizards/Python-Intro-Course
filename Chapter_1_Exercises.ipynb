{
  "nbformat": 4,
  "nbformat_minor": 0,
  "metadata": {
    "colab": {
      "provenance": []
    },
    "kernelspec": {
      "name": "python3",
      "display_name": "Python 3"
    }
  },
  "cells": [
    {
      "cell_type": "markdown",
      "source": [
        "# **Intro to Python for Data Analysis**\n",
        "## Chapter 1: Python Basics - Solutions to Exercises\n",
        "---\n",
        "**Author:** Juan Martin Bellido  \n",
        "\n",
        "**About**  \n",
        "This notebooks includes solutions to exercises on Chapter 1.\n",
        "\n",
        "**Feedback?** Please share on [LinkedIn](https://www.linkedin.com/in/jmartinbellido/)  \n"
      ],
      "metadata": {
        "id": "YXN917o2qjQG"
      }
    },
    {
      "cell_type": "markdown",
      "source": [
        "# Chapter 1: Ejercicios\n",
        "---"
      ],
      "metadata": {
        "id": "HEbKsQLLxcIM"
      }
    },
    {
      "cell_type": "markdown",
      "source": [
        "### Exercise #1\n",
        "\n",
        "Below there is a list containing food names. Iterate with that list so that for each element on it you print the following text:  \n",
        "\n",
        "> I love pizza  \n",
        "I love sushi  \n",
        "I love paella  \n",
        "I love tapas\n",
        "\n",
        "> 👉 You can concatenate text by simply using the operator `+`\n"
      ],
      "metadata": {
        "id": "TMgWrnI2eIUJ"
      }
    },
    {
      "cell_type": "code",
      "source": [
        "# example of concatenating text\n",
        "my_name = 'Martin'\n",
        "print('Mi nombre es ' + my_name)"
      ],
      "metadata": {
        "colab": {
          "base_uri": "https://localhost:8080/"
        },
        "id": "slWvr5y2edUp",
        "outputId": "4b904b2d-9f39-4d4f-9a3c-87d5c927a82c"
      },
      "execution_count": null,
      "outputs": [
        {
          "output_type": "stream",
          "name": "stdout",
          "text": [
            "Mi nombre es Martin\n"
          ]
        }
      ]
    },
    {
      "cell_type": "code",
      "source": [
        "# use the following list to iterate\n",
        "food_list = ['pizza','sushi','paella','tapas']"
      ],
      "metadata": {
        "id": "MSwaoKAyefeK"
      },
      "execution_count": null,
      "outputs": []
    },
    {
      "cell_type": "code",
      "source": [
        "# exercise resolution using a for loop\n",
        "for f in food_list:\n",
        "  print('I love ' + f)"
      ],
      "metadata": {
        "colab": {
          "base_uri": "https://localhost:8080/"
        },
        "id": "mAcryTqeeha5",
        "outputId": "9b16352a-37e5-47ec-8457-f907f5ec1b0a"
      },
      "execution_count": null,
      "outputs": [
        {
          "output_type": "stream",
          "name": "stdout",
          "text": [
            "I love pizza\n",
            "I love sushi\n",
            "I love paella\n",
            "I love tapas\n"
          ]
        }
      ]
    },
    {
      "cell_type": "code",
      "source": [
        "# exercise resolution using comprehension lists\n",
        "[print('I love ' + f) for f in food_list]"
      ],
      "metadata": {
        "colab": {
          "base_uri": "https://localhost:8080/"
        },
        "id": "vHNDKN0JelfV",
        "outputId": "24ee5825-ea76-41d6-f89d-4c8bf7d35ca0"
      },
      "execution_count": null,
      "outputs": [
        {
          "output_type": "stream",
          "name": "stdout",
          "text": [
            "I love pizza\n",
            "I love sushi\n",
            "I love paella\n",
            "I love tapas\n"
          ]
        },
        {
          "output_type": "execute_result",
          "data": {
            "text/plain": [
              "[None, None, None, None]"
            ]
          },
          "metadata": {},
          "execution_count": 5
        }
      ]
    },
    {
      "cell_type": "markdown",
      "source": [
        "### Exercise #2\n",
        "\n",
        "Next, we find a different list with food names. Repeat exercise #1, this time avoid displaying \"onions\" and \"garlic\" (without editing the list).\n",
        "\n"
      ],
      "metadata": {
        "id": "ydSzQmule6XV"
      }
    },
    {
      "cell_type": "code",
      "source": [
        "food_list = ['pizza','sushi','onion','paella','garlic','tapas']"
      ],
      "metadata": {
        "id": "WFyC2FbFfmYw"
      },
      "execution_count": null,
      "outputs": []
    },
    {
      "cell_type": "code",
      "source": [
        "# resolution #1\n",
        "for f in food_list:\n",
        "  if f not in ['onion','garlic']:\n",
        "    print('I love ' + f)"
      ],
      "metadata": {
        "colab": {
          "base_uri": "https://localhost:8080/"
        },
        "id": "wnqL845SfmbF",
        "outputId": "2e3382ef-30a0-4d4b-8621-70be78340a61"
      },
      "execution_count": null,
      "outputs": [
        {
          "output_type": "stream",
          "name": "stdout",
          "text": [
            "I love pizza\n",
            "I love sushi\n",
            "I love paella\n",
            "I love tapas\n"
          ]
        }
      ]
    },
    {
      "cell_type": "code",
      "source": [
        "# resolution #2\n",
        "for f in food_list:\n",
        "  if not f == 'onion' and not f == 'garlic':\n",
        "    print('I love ' + f)"
      ],
      "metadata": {
        "colab": {
          "base_uri": "https://localhost:8080/"
        },
        "id": "YudTgKD6fmdc",
        "outputId": "68213263-c1b6-44fb-dbf8-146daad3b674"
      },
      "execution_count": null,
      "outputs": [
        {
          "output_type": "stream",
          "name": "stdout",
          "text": [
            "I love pizza\n",
            "I love sushi\n",
            "I love paella\n",
            "I love tapas\n"
          ]
        }
      ]
    }
  ]
}