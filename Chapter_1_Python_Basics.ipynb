{
  "nbformat": 4,
  "nbformat_minor": 0,
  "metadata": {
    "colab": {
      "provenance": [],
      "toc_visible": true,
      "collapsed_sections": [
        "feOc-TlCiotM",
        "QN1OZN-_kemL",
        "XXzKcPfLl0qA",
        "XgGtPkeQpucC",
        "fV6a4APBw0qI",
        "DHrISNSoxkNR",
        "dYR-fXcrzNZv",
        "3QVwgwuIxnQl",
        "g3PKxSihBVeh",
        "qTRTsODkxyW6",
        "GoBUT6IFx1hF",
        "0qC-JZVoC-Yf",
        "-WziRggv31NC",
        "UCq_8WQ_CyrQ"
      ]
    },
    "kernelspec": {
      "name": "python3",
      "display_name": "Python 3"
    }
  },
  "cells": [
    {
      "cell_type": "markdown",
      "source": [
        "# **Intro to Python for Data Analysis**\n",
        "## Chapter 1: Python Basics\n",
        "---\n",
        "**Author:** Juan Martin Bellido  \n",
        "\n",
        "**About**  \n",
        "On this first notebook we explore the most elemental operations we need to learn first on Python before moving on to its use on Data Analysis.\n",
        "\n",
        "All sintaxis covered on this first chapter is available to Python natively (i.e. not using external libraries yet).\n",
        "\n",
        "**Feedback?** Please share on [LinkedIn](https://www.linkedin.com/in/jmartinbellido/)  \n"
      ],
      "metadata": {
        "id": "YXN917o2qjQG"
      }
    },
    {
      "cell_type": "markdown",
      "source": [
        "\n",
        "## Table of Contents\n",
        "---\n",
        "1. Objects in Python\n",
        "2. Data structures\n",
        "3. Functions vs. methods\n",
        "4. Operators\n",
        "5. Programming basics\n",
        "6. Exercises"
      ],
      "metadata": {
        "id": "HEbKsQLLxcIM"
      }
    },
    {
      "cell_type": "markdown",
      "source": [
        "Conventions used in this document\n",
        "\n",
        "> 👉 *This is note*\n",
        "\n",
        "> ⚠️ *This is a warning*"
      ],
      "metadata": {
        "id": "IIOixpIvx0cK"
      }
    },
    {
      "cell_type": "markdown",
      "metadata": {
        "id": "p8ZkrjeNgzhP"
      },
      "source": [
        "# 1. Objects in Python\n",
        "---\n",
        "\n"
      ]
    },
    {
      "cell_type": "markdown",
      "source": [
        "### Comment code\n",
        "\n",
        "We use `#` to create an annotation; all characters after it on the same coding line will be commented out. "
      ],
      "metadata": {
        "id": "IOIYI21o5iJg"
      }
    },
    {
      "cell_type": "code",
      "source": [
        "# code annotation\n",
        "1 + 1 # this is also a comment"
      ],
      "metadata": {
        "id": "pqW-2jTE5wFc"
      },
      "execution_count": null,
      "outputs": []
    },
    {
      "cell_type": "markdown",
      "source": [
        "### Declare an object"
      ],
      "metadata": {
        "id": "pfKh7Qbs6Prm"
      }
    },
    {
      "cell_type": "markdown",
      "source": [
        "Python is an *object-oriented* language. This means we can declare variables (objects) to store data temporarily in our environment to invoke later as needed.\n",
        "\n",
        "> 👉 *Objects declared will only get lost when explicitly deleting them or when restarting our environment*  \n",
        "\n",
        "\n",
        "To declare a new object, we use the following syntaxis\n",
        "\n",
        "```\n",
        "new_object = x\n",
        "```"
      ],
      "metadata": {
        "id": "B0ZijxEw5fyx"
      }
    },
    {
      "cell_type": "code",
      "metadata": {
        "colab": {
          "base_uri": "https://localhost:8080/"
        },
        "id": "hSHLCPP2hPpv",
        "outputId": "7994b190-7c7c-4c0e-a4b8-898dea8b4836"
      },
      "source": [
        "# what comes next is a simple example of defining a new object (\"name\") and then invoking it\n",
        "name = \"Martin\" # we define a new object (name) and store a text input (\"Martin\")\n",
        "print(\"Hi \" + name) # we use the function print() and combine a text input with the object \"name\""
      ],
      "execution_count": null,
      "outputs": [
        {
          "output_type": "stream",
          "name": "stdout",
          "text": [
            "Hi Martin\n"
          ]
        }
      ]
    },
    {
      "cell_type": "code",
      "source": [
        "# we can simply invoke an object by its name\n",
        "name"
      ],
      "metadata": {
        "colab": {
          "base_uri": "https://localhost:8080/",
          "height": 35
        },
        "id": "h_KGbZKy7pTg",
        "outputId": "c1358547-854a-4591-cad5-48111f423408"
      },
      "execution_count": null,
      "outputs": [
        {
          "output_type": "execute_result",
          "data": {
            "text/plain": [
              "'Martin'"
            ],
            "application/vnd.google.colaboratory.intrinsic+json": {
              "type": "string"
            }
          },
          "metadata": {},
          "execution_count": 8
        }
      ]
    },
    {
      "cell_type": "markdown",
      "source": [
        "### Get objects declared on environment\n",
        "\n",
        "A small drawback of running code on a Notebook environment (vs an IDE) is the fact that it does not include an option to visualize all objects declared.  "
      ],
      "metadata": {
        "id": "sLfHKchK6bXx"
      }
    },
    {
      "cell_type": "code",
      "source": [
        "# we can use a Notebook function, called \"magic commands\" to ask for this info\n",
        "%who # this is NOT Python, is a function relative to the environment"
      ],
      "metadata": {
        "colab": {
          "base_uri": "https://localhost:8080/"
        },
        "id": "m-qbNKf-6h_e",
        "outputId": "9456b00d-48e3-4333-c6b0-b3d8dc4e8383"
      },
      "execution_count": null,
      "outputs": [
        {
          "output_type": "stream",
          "name": "stdout",
          "text": [
            "No variables match your requested type.\n"
          ]
        }
      ]
    },
    {
      "cell_type": "markdown",
      "source": [
        "### Delete an object"
      ],
      "metadata": {
        "id": "HekzAh--8C7F"
      }
    },
    {
      "cell_type": "code",
      "source": [
        "# we use the command del followed by the name of the object\n",
        "del name"
      ],
      "metadata": {
        "id": "MyAIUsqT8EP_"
      },
      "execution_count": null,
      "outputs": []
    },
    {
      "cell_type": "markdown",
      "source": [
        "\n",
        "We can delete multiple objects using the following syntaxis\n",
        "```\n",
        "del obj_1, obj_2, obj_3\n",
        "```"
      ],
      "metadata": {
        "id": "y1VecShq8V8h"
      }
    },
    {
      "cell_type": "markdown",
      "metadata": {
        "id": "feOc-TlCiotM"
      },
      "source": [
        "### Object types\n",
        "\n",
        "There are three elementary object types recognized in Python,\n",
        "\n",
        "Python includes many type of objects natively. For our purpose, we will consider only the following four:\n",
        "\n",
        "*  *Numeric integers*\n",
        "*  *Numeric w/decimals (float)*\n",
        "*  *Text (string)*\n",
        "*  *Logic (True/ False)*\n",
        "\n",
        "> 👉 *There are more object types, but rarely used in Data Analysis*\n"
      ]
    },
    {
      "cell_type": "code",
      "metadata": {
        "colab": {
          "base_uri": "https://localhost:8080/"
        },
        "id": "YIE3RoXujasd",
        "outputId": "a7a72ca8-2b02-4430-c751-24784487e0bc"
      },
      "source": [
        "# let's create a first numeric (integer) object\n",
        "numeric_obj = 2\n",
        "type(numeric_obj) # we use the type() function to check object type"
      ],
      "execution_count": null,
      "outputs": [
        {
          "output_type": "execute_result",
          "data": {
            "text/plain": [
              "int"
            ]
          },
          "metadata": {
            "tags": []
          },
          "execution_count": 9
        }
      ]
    },
    {
      "cell_type": "code",
      "metadata": {
        "colab": {
          "base_uri": "https://localhost:8080/"
        },
        "id": "zN5qjkXhjSGS",
        "outputId": "1f38b3ef-2128-4b8f-f7bb-89ba3610f607"
      },
      "source": [
        "# let us now overwrite the object with a new input\n",
        "numeric_obj = 1.2 # important: note that here we are overwriting the object with a new input\n",
        "type(numeric_obj) # we check again the type(), in this case it contains decimals, therefore it's a float"
      ],
      "execution_count": null,
      "outputs": [
        {
          "output_type": "execute_result",
          "data": {
            "text/plain": [
              "float"
            ]
          },
          "metadata": {
            "tags": []
          },
          "execution_count": 8
        }
      ]
    },
    {
      "cell_type": "code",
      "metadata": {
        "colab": {
          "base_uri": "https://localhost:8080/"
        },
        "id": "l9vvIj1QjSI8",
        "outputId": "6c479ae1-2da4-44cf-ecdb-14fc31d46702"
      },
      "source": [
        "# next, we define a new object type string (text)\n",
        "string_obj = \"Python\"\n",
        "type(string_obj)"
      ],
      "execution_count": null,
      "outputs": [
        {
          "output_type": "execute_result",
          "data": {
            "text/plain": [
              "str"
            ]
          },
          "metadata": {
            "tags": []
          },
          "execution_count": 2
        }
      ]
    },
    {
      "cell_type": "code",
      "metadata": {
        "colab": {
          "base_uri": "https://localhost:8080/"
        },
        "id": "aTuLJvMuio9V",
        "outputId": "efd7b078-3c31-4b61-feaa-3b3d9e7fb260"
      },
      "source": [
        "# finally, we create an object type boolean (True or False)\n",
        "bool_obj = True\n",
        "type(bool_obj)"
      ],
      "execution_count": null,
      "outputs": [
        {
          "output_type": "execute_result",
          "data": {
            "text/plain": [
              "bool"
            ]
          },
          "metadata": {
            "tags": []
          },
          "execution_count": 3
        }
      ]
    },
    {
      "cell_type": "markdown",
      "metadata": {
        "id": "7M3iNzlpiVwN"
      },
      "source": [
        "# 2. Data structures\n",
        "---\n",
        "Data in Python can be stored in many different formats, each of them with unique characteristics and treatment.\n",
        "\n",
        "There are *four* data structures included in Python natively:\n",
        "*   *Lists*\n",
        "*   *Dictionaries*\n",
        "*   *Tuples*\n",
        "*   *Sets*\n",
        "\n",
        "> 👉 Besides those included as part of Python's original functionalities, there are additional data structures that are incorporated though libraries\n",
        "\n",
        "> 👉  The most important data structure for Data Analysis are DataFrames (data tables), which were incorporated by the *Pandas* library\n"
      ]
    },
    {
      "cell_type": "markdown",
      "metadata": {
        "id": "QN1OZN-_kemL"
      },
      "source": [
        "### Lists\n",
        "\n",
        "*Lists* are essentially vectors. Each element (piece of data) stored in a list is *indexed*; this means that elements stored have a specific and unique position within the structure.   \n",
        "\n",
        "To create a list, we use the following syntax\n",
        "\n",
        "```\n",
        "my_list = [x,y,z ... n]\n",
        "```\n",
        "\n"
      ]
    },
    {
      "cell_type": "code",
      "metadata": {
        "colab": {
          "base_uri": "https://localhost:8080/"
        },
        "id": "o_DcdJVwkxd3",
        "outputId": "c91e34b0-11c6-4e90-d3be-e3d9d73fe8f6"
      },
      "source": [
        "# we create our first list\n",
        "my_list = [1,\"a\",3,False,5] # we define a new object that contains a list\n",
        "my_list # we invoke our new object"
      ],
      "execution_count": null,
      "outputs": [
        {
          "output_type": "execute_result",
          "data": {
            "text/plain": [
              "[1, 'a', 3, False, 5]"
            ]
          },
          "metadata": {
            "tags": []
          },
          "execution_count": 4
        }
      ]
    },
    {
      "cell_type": "code",
      "metadata": {
        "colab": {
          "base_uri": "https://localhost:8080/"
        },
        "id": "QGg6qFAnkxkL",
        "outputId": "1a62aeea-54ba-4c3b-ac3d-da87ecb99f37"
      },
      "source": [
        "# note: lists may contain lists as elements\n",
        "my_list_v2 = [100,\"one hundred\",my_list] # we create a new list, which holds the first list as one of the elements stored\n",
        "my_list_v2 # we invoke the object"
      ],
      "execution_count": null,
      "outputs": [
        {
          "output_type": "execute_result",
          "data": {
            "text/plain": [
              "[100, 'one hundred', [1, 'a', 3, False, 5]]"
            ]
          },
          "metadata": {
            "tags": []
          },
          "execution_count": 8
        }
      ]
    },
    {
      "cell_type": "code",
      "metadata": {
        "colab": {
          "base_uri": "https://localhost:8080/"
        },
        "id": "esmP4G3Rl_tP",
        "outputId": "f8137ad3-2511-44b0-d5f9-ee0163f18437"
      },
      "source": [
        "# the most important thing about lists is that elements stored are indexed\n",
        "## as result, we are able to invoke specific elements stored\n",
        "## note: python is 0 indexed; this means that the element \"0\" is always the first one \n",
        "my_list_v2[0] # we invoke the first element stored in list"
      ],
      "execution_count": null,
      "outputs": [
        {
          "output_type": "execute_result",
          "data": {
            "text/plain": [
              "100"
            ]
          },
          "metadata": {
            "tags": []
          },
          "execution_count": 9
        }
      ]
    },
    {
      "cell_type": "code",
      "metadata": {
        "colab": {
          "base_uri": "https://localhost:8080/"
        },
        "id": "LmarGLiwwbyl",
        "outputId": "ecf7ff98-3a3d-4481-e809-d0496b236923"
      },
      "source": [
        "# now we will overwrite one (only one) specific element\n",
        "my_list_v2[0] = 101 # we overwrite (replace) the first element (element 0) in vector wit a new number\n",
        "my_list_v2 # we invoke the object"
      ],
      "execution_count": null,
      "outputs": [
        {
          "output_type": "execute_result",
          "data": {
            "text/plain": [
              "[101, 'one hundred', [1, 'a', 3, False, 5]]"
            ]
          },
          "metadata": {
            "tags": []
          },
          "execution_count": 10
        }
      ]
    },
    {
      "cell_type": "markdown",
      "metadata": {
        "id": "XXzKcPfLl0qA"
      },
      "source": [
        "### Dictionaries\n",
        "\n",
        "*Dictionaries* are structures that stored data under a *key-pair* logic. Similar to a JSON file (unstructured storage), elements stored are **not** indexed (do not have a fix position) and can be invoked using their *key* values. *Key* values are always unique.\n",
        "\n",
        "To create a new dictionary we use the following syntax\n",
        "\n",
        "```\n",
        "my_dic = {\n",
        "  key_1:value_1,\n",
        "  key_2:value_2,\n",
        "  key_3:value_3,\n",
        "  ...\n",
        "  }\n",
        "```\n"
      ]
    },
    {
      "cell_type": "code",
      "metadata": {
        "colab": {
          "base_uri": "https://localhost:8080/"
        },
        "id": "fpK0x8LEnKlQ",
        "outputId": "feb4c472-47b2-4e50-d700-429560dac26a"
      },
      "source": [
        "# let us create our first dictionary\n",
        "my_dic = {\n",
        "  \"school\": \"ISDI\",                     # this line is a \"key-pair\" element\n",
        "  \"course\": \"Python 101\",               # this is a second \"key-pair\" element\n",
        "  \"year\": 2021,\n",
        "  \"this is a hands-on course\": True,\n",
        "  \"assistants\":[\"Maria\",\"Juan\",\"Jose\"], # note that this \"pair\" is actually a list\n",
        "  \"lecturer\":\"Martin\"\n",
        "}\n",
        "\n",
        "my_dic # we invoke the dictionary and verify that elements are not ordered in the same way we defined them\n"
      ],
      "execution_count": null,
      "outputs": [
        {
          "output_type": "execute_result",
          "data": {
            "text/plain": [
              "{'assistants': ['Maria', 'Juan', 'Jose'],\n",
              " 'course': 'Python 101',\n",
              " 'lecturer': 'Martin',\n",
              " 'school': 'ISDI',\n",
              " 'this is a hands-on course': True,\n",
              " 'year': 2021}"
            ]
          },
          "metadata": {},
          "execution_count": 1
        }
      ]
    },
    {
      "cell_type": "code",
      "metadata": {
        "colab": {
          "base_uri": "https://localhost:8080/",
          "height": 35
        },
        "id": "2n5VmyxCnX-k",
        "outputId": "e09f6c24-6bb1-4870-8b07-a8abf0aa8d51"
      },
      "source": [
        "# we now invoke one specific element \"pair\" by parsing its unique \"key\"\n",
        "my_dic[\"course\"]"
      ],
      "execution_count": null,
      "outputs": [
        {
          "output_type": "execute_result",
          "data": {
            "application/vnd.google.colaboratory.intrinsic+json": {
              "type": "string"
            },
            "text/plain": [
              "'Python 101'"
            ]
          },
          "metadata": {},
          "execution_count": 2
        }
      ]
    },
    {
      "cell_type": "code",
      "metadata": {
        "colab": {
          "base_uri": "https://localhost:8080/"
        },
        "id": "iS3Eet22wB2K",
        "outputId": "1c362eb6-5e21-48cc-ef27-0c75c455b083"
      },
      "source": [
        "# we now replace one element (\"pair\") in the dictionary using (again) its \"key\" value\n",
        "my_dic[\"assistants\"] = [\"Maria\",\"Juan\",\"Jose\",\"Pepe\"] # we are replacing the \"pair\" value of \"key\" \"assistants\"\n",
        "my_dic"
      ],
      "execution_count": null,
      "outputs": [
        {
          "output_type": "execute_result",
          "data": {
            "text/plain": [
              "{'assistants': ['Maria', 'Juan', 'Jose', 'Pepe'],\n",
              " 'course': 'Python 101',\n",
              " 'lecturer': 'Martin',\n",
              " 'school': 'ISDI',\n",
              " 'this is a hands-on course': True,\n",
              " 'year': 2021}"
            ]
          },
          "metadata": {},
          "execution_count": 3
        }
      ]
    },
    {
      "cell_type": "markdown",
      "metadata": {
        "id": "XgGtPkeQpucC"
      },
      "source": [
        "### Tuples\n",
        "\n",
        "*Tuples* are unidimensional structures similar to lists, but *unmutable*; this means that elements in a tuple cannot be overwritten.\n",
        "\n",
        "```\n",
        "my_tupple = (x,y,z ... n)\n",
        "```\n"
      ]
    },
    {
      "cell_type": "code",
      "metadata": {
        "colab": {
          "base_uri": "https://localhost:8080/"
        },
        "id": "ytD0T5_Apv4t",
        "outputId": "b3531041-dcee-479b-8201-3c241c04128e"
      },
      "source": [
        "# we create and invoke a tupple\n",
        "my_tupple = (2,1,\"c\",\"a\")\n",
        "my_tupple"
      ],
      "execution_count": null,
      "outputs": [
        {
          "output_type": "execute_result",
          "data": {
            "text/plain": [
              "(2, 1, 'c', 'a')"
            ]
          },
          "metadata": {
            "tags": []
          },
          "execution_count": 14
        }
      ]
    },
    {
      "cell_type": "code",
      "metadata": {
        "colab": {
          "base_uri": "https://localhost:8080/"
        },
        "id": "72Vah0kxvvt6",
        "outputId": "a11d8b81-5329-421d-fe78-ecb5d052b577"
      },
      "source": [
        "# tuples are indexed, therefore we can select elements based on its position within the structure\n",
        "my_tupple[1]"
      ],
      "execution_count": null,
      "outputs": [
        {
          "output_type": "execute_result",
          "data": {
            "text/plain": [
              "2"
            ]
          },
          "metadata": {
            "tags": []
          },
          "execution_count": 50
        }
      ]
    },
    {
      "cell_type": "code",
      "metadata": {
        "colab": {
          "base_uri": "https://localhost:8080/",
          "height": 164
        },
        "id": "MFuY8Dp7wlFG",
        "outputId": "432a3bc8-fc07-4906-e03b-1635a31fcd8e"
      },
      "source": [
        "# as mentioned, tuples are unmutable\n",
        "## we cannot overwrite (replace) elements\n",
        "my_tupple[1] = 3 # this will generate an execution error"
      ],
      "execution_count": null,
      "outputs": [
        {
          "output_type": "error",
          "ename": "TypeError",
          "evalue": "ignored",
          "traceback": [
            "\u001b[0;31m---------------------------------------------------------------------------\u001b[0m",
            "\u001b[0;31mTypeError\u001b[0m                                 Traceback (most recent call last)",
            "\u001b[0;32m<ipython-input-54-258fd01bb191>\u001b[0m in \u001b[0;36m<module>\u001b[0;34m()\u001b[0m\n\u001b[0;32m----> 1\u001b[0;31m \u001b[0mmy_tupple\u001b[0m\u001b[0;34m[\u001b[0m\u001b[0;36m1\u001b[0m\u001b[0;34m]\u001b[0m \u001b[0;34m=\u001b[0m \u001b[0;36m3\u001b[0m\u001b[0;34m\u001b[0m\u001b[0;34m\u001b[0m\u001b[0m\n\u001b[0m",
            "\u001b[0;31mTypeError\u001b[0m: 'tuple' object does not support item assignment"
          ]
        }
      ]
    },
    {
      "cell_type": "markdown",
      "metadata": {
        "id": "fV6a4APBw0qI"
      },
      "source": [
        "### Sets\n",
        "\n",
        "*Sets* are structures similar to lists and tuples, but,\n",
        "*   *sets do not allow duplicated values*;\n",
        "*   *elements are not indexed*.\n",
        "\n",
        "To define a set we use the following syntax,\n",
        "\n",
        "```\n",
        "my_set = {x,y,z ... n}\n",
        "```"
      ]
    },
    {
      "cell_type": "code",
      "metadata": {
        "colab": {
          "base_uri": "https://localhost:8080/"
        },
        "id": "n0WpYMDlw1ZU",
        "outputId": "4cade1a7-0a63-44a1-834f-492453cf792d"
      },
      "source": [
        "my_set = {1,10,0,5,'b','c','a'} # definimos un set\n",
        "my_set  # lo invocamos, verificamos que el orden de los elementos es distinto al que hemos establecido"
      ],
      "execution_count": null,
      "outputs": [
        {
          "output_type": "execute_result",
          "data": {
            "text/plain": [
              "{0, 1, 10, 5, 'a', 'b', 'c'}"
            ]
          },
          "metadata": {
            "tags": []
          },
          "execution_count": 10
        }
      ]
    },
    {
      "cell_type": "code",
      "metadata": {
        "colab": {
          "base_uri": "https://localhost:8080/",
          "height": 164
        },
        "id": "J7LpqXEHxhHU",
        "outputId": "07af1b7e-8752-4d91-8f45-6a0245e8c932"
      },
      "source": [
        "# a continuación, verificamos que efectivamente un set no permite la indexación\n",
        "my_set[2] # esto dará error"
      ],
      "execution_count": null,
      "outputs": [
        {
          "output_type": "error",
          "ename": "TypeError",
          "evalue": "ignored",
          "traceback": [
            "\u001b[0;31m---------------------------------------------------------------------------\u001b[0m",
            "\u001b[0;31mTypeError\u001b[0m                                 Traceback (most recent call last)",
            "\u001b[0;32m<ipython-input-8-0d2f9e28ef76>\u001b[0m in \u001b[0;36m<module>\u001b[0;34m()\u001b[0m\n\u001b[0;32m----> 1\u001b[0;31m \u001b[0mmy_set\u001b[0m\u001b[0;34m[\u001b[0m\u001b[0;36m2\u001b[0m\u001b[0;34m]\u001b[0m\u001b[0;34m\u001b[0m\u001b[0;34m\u001b[0m\u001b[0m\n\u001b[0m",
            "\u001b[0;31mTypeError\u001b[0m: 'set' object does not support indexing"
          ]
        }
      ]
    },
    {
      "cell_type": "markdown",
      "source": [
        "# 3. Functions vs methods\n",
        "---\n",
        "\n",
        "There is a distinction in Python between *functions* (which generally work on any type of object) and *methods*, which are specific to a type of data structure.\n"
      ],
      "metadata": {
        "id": "DSXUGfSZFDt-"
      }
    },
    {
      "cell_type": "code",
      "source": [
        "my_list = ['Madrid','Milan','Dubai','Barcelona']"
      ],
      "metadata": {
        "id": "EQIQJOgoIMg1"
      },
      "execution_count": null,
      "outputs": []
    },
    {
      "cell_type": "code",
      "source": [
        "# this is an example of a function\n",
        "type(my_list)"
      ],
      "metadata": {
        "colab": {
          "base_uri": "https://localhost:8080/"
        },
        "id": "ZIn07OJEIMmn",
        "outputId": "e8db8766-da81-45f1-dbfb-0ed9a818a277"
      },
      "execution_count": null,
      "outputs": [
        {
          "output_type": "execute_result",
          "data": {
            "text/plain": [
              "list"
            ]
          },
          "metadata": {},
          "execution_count": 15
        }
      ]
    },
    {
      "cell_type": "code",
      "source": [
        "# this is an example of a method that only works on lists\n",
        "my_list.append('London')\n",
        "my_list # we invoke the list"
      ],
      "metadata": {
        "colab": {
          "base_uri": "https://localhost:8080/"
        },
        "id": "g6sd8Ju-IXr7",
        "outputId": "18415cd6-c3f7-4d8e-c528-90a609776ef4"
      },
      "execution_count": null,
      "outputs": [
        {
          "output_type": "execute_result",
          "data": {
            "text/plain": [
              "['Madrid', 'Milan', 'Dubai', 'Barcelona', 'London']"
            ]
          },
          "metadata": {},
          "execution_count": 19
        }
      ]
    },
    {
      "cell_type": "markdown",
      "metadata": {
        "id": "DWN9PifdxeHs"
      },
      "source": [
        "# 4. Operators\n",
        "---\n",
        "In programming, *operators* are symbols that perform specific mathematical, relational or logical operations. \n",
        "\n",
        "*   *Arithmetic Operators*: perform mathematical operations\n",
        "*   *Comparison Operators*: contrast objects and compare values, resulting in a boolean object (true/false)\n",
        "*   *Logic Operators*: used for performing logic tests, producing a boolean object (true/false) \n",
        "\n",
        "\n",
        "\n",
        "\n"
      ]
    },
    {
      "cell_type": "markdown",
      "metadata": {
        "id": "DHrISNSoxkNR"
      },
      "source": [
        "### Arithmetic operators\n",
        "\n",
        "\n",
        "\n",
        "| Operator \t|   Description  \t|\n",
        "|----------\t|:--------------:\t|\n",
        "| +        \t| addition       \t|\n",
        "| -        \t| subtraction    \t|\n",
        "| *        \t| multiplication \t|\n",
        "| /        \t| division       \t|\n",
        "| **  \t| exponentiation \t|"
      ]
    },
    {
      "cell_type": "code",
      "metadata": {
        "id": "PnBL6777yEzr"
      },
      "source": [
        "# arithmetic operators\n",
        "## we define two numeric objects\n",
        "obj_1 = 10\n",
        "obj_2 = 5"
      ],
      "execution_count": null,
      "outputs": []
    },
    {
      "cell_type": "code",
      "metadata": {
        "colab": {
          "base_uri": "https://localhost:8080/"
        },
        "id": "A-n2tQVryE46",
        "outputId": "22de7905-f87a-4d7f-914c-af6d81d4f57b"
      },
      "source": [
        "# test 1\n",
        "obj_1/obj_2"
      ],
      "execution_count": null,
      "outputs": [
        {
          "output_type": "execute_result",
          "data": {
            "text/plain": [
              "2.0"
            ]
          },
          "metadata": {
            "tags": []
          },
          "execution_count": 56
        }
      ]
    },
    {
      "cell_type": "code",
      "metadata": {
        "colab": {
          "base_uri": "https://localhost:8080/"
        },
        "id": "4ph8qWcYyKAJ",
        "outputId": "4977c6dc-1516-4d88-e042-0ef0e8df19fb"
      },
      "source": [
        "# test 2\n",
        "obj_1-obj_2"
      ],
      "execution_count": null,
      "outputs": [
        {
          "output_type": "execute_result",
          "data": {
            "text/plain": [
              "5"
            ]
          },
          "metadata": {
            "tags": []
          },
          "execution_count": 57
        }
      ]
    },
    {
      "cell_type": "markdown",
      "metadata": {
        "id": "dYR-fXcrzNZv"
      },
      "source": [
        "### Comparison operators\n",
        "\n",
        "\n",
        "| Operator  \t|        Description       \t|\n",
        "|-----------\t|:------------------------:\t|\n",
        "| <         \t| less than                \t|\n",
        "| <=        \t| less than or equal to    \t|\n",
        "| >         \t| greater than             \t|\n",
        "| >=        \t| greater than or equal to \t|\n",
        "| ==        \t| exactly equal to         \t|\n",
        "| !=        \t| not equal to             \t|\n"
      ]
    },
    {
      "cell_type": "code",
      "metadata": {
        "id": "8xkpEPI8yQJe"
      },
      "source": [
        "# comparison objects\n",
        "## we define two numeric objects\n",
        "obj_1 = 10\n",
        "obj_2 = 5"
      ],
      "execution_count": null,
      "outputs": []
    },
    {
      "cell_type": "code",
      "metadata": {
        "colab": {
          "base_uri": "https://localhost:8080/"
        },
        "id": "XAYMAGrbyRKA",
        "outputId": "fda27b3d-1b24-4523-cd98-e734ea76b257"
      },
      "source": [
        "# test 1\n",
        "## check if object 1 is greater than 8\n",
        "obj_1 > 8"
      ],
      "execution_count": null,
      "outputs": [
        {
          "output_type": "execute_result",
          "data": {
            "text/plain": [
              "True"
            ]
          },
          "metadata": {
            "tags": []
          },
          "execution_count": 59
        }
      ]
    },
    {
      "cell_type": "code",
      "metadata": {
        "colab": {
          "base_uri": "https://localhost:8080/"
        },
        "id": "RPuSGW7syVoV",
        "outputId": "2a7f7521-80b9-4c90-a072-ed570ebc3d08"
      },
      "source": [
        "# test 2\n",
        "## check if object 1 is equal to object 2\n",
        "obj_1 == obj_2"
      ],
      "execution_count": null,
      "outputs": [
        {
          "output_type": "execute_result",
          "data": {
            "text/plain": [
              "False"
            ]
          },
          "metadata": {
            "tags": []
          },
          "execution_count": 60
        }
      ]
    },
    {
      "cell_type": "markdown",
      "metadata": {
        "id": "3QVwgwuIxnQl"
      },
      "source": [
        "### Logic operators\n",
        "\n",
        "\n",
        "| Operator  \t|        Description       \t|\n",
        "|-----------\t|:------------------------:\t|\n",
        "| x and y    \t| se cumplen condiciones X e Y                    \t|\n",
        "| x or y    \t| se cumple  condiciones X o Y                   \t|\n",
        "| not x     \t| negamos la condición X   \t|\n"
      ]
    },
    {
      "cell_type": "code",
      "metadata": {
        "id": "7Ec848t62Cpl"
      },
      "source": [
        "## we define two numeric objects\n",
        "obj_1 = 10\n",
        "obj_2 = 5"
      ],
      "execution_count": null,
      "outputs": []
    },
    {
      "cell_type": "code",
      "metadata": {
        "colab": {
          "base_uri": "https://localhost:8080/"
        },
        "id": "aKXxM74fyVq6",
        "outputId": "4a2e10b6-5356-4212-b605-f5aa4683e551"
      },
      "source": [
        "# test 1\n",
        "## test if at least one of the two conditions are fulfilled\n",
        "obj_1 > 8 or obj_2 > 8 # this reads: \"objet 1 is greater than 8 OR object 2 is greater than 8\""
      ],
      "execution_count": null,
      "outputs": [
        {
          "output_type": "execute_result",
          "data": {
            "text/plain": [
              "True"
            ]
          },
          "metadata": {
            "tags": []
          },
          "execution_count": 63
        }
      ]
    },
    {
      "cell_type": "code",
      "metadata": {
        "colab": {
          "base_uri": "https://localhost:8080/"
        },
        "id": "taDNi_c6yZGC",
        "outputId": "8b6e1a25-08f9-42da-80a4-8d891551dd6f"
      },
      "source": [
        "# test 2\n",
        "## test if both conditions are met simultaneously\n",
        "obj_1 > 8 and obj_2 > 8 # this reads: \"objet 1 is greater than 8 AND object 2 is greater than 8\""
      ],
      "execution_count": null,
      "outputs": [
        {
          "output_type": "execute_result",
          "data": {
            "text/plain": [
              "False"
            ]
          },
          "metadata": {
            "tags": []
          },
          "execution_count": 64
        }
      ]
    },
    {
      "cell_type": "code",
      "metadata": {
        "colab": {
          "base_uri": "https://localhost:8080/"
        },
        "id": "dk_jLz7A2D5A",
        "outputId": "b4ec6df5-d05a-44a5-c009-f6580e4b6a55"
      },
      "source": [
        "# test 3\n",
        "## negate a conditioon\n",
        "not obj_1 > 8 # this reads: \"objet 1 is NOT greater than 8\""
      ],
      "execution_count": null,
      "outputs": [
        {
          "output_type": "execute_result",
          "data": {
            "text/plain": [
              "False"
            ]
          },
          "metadata": {
            "tags": []
          },
          "execution_count": 66
        }
      ]
    },
    {
      "cell_type": "markdown",
      "source": [
        "### IN operator"
      ],
      "metadata": {
        "id": "g3PKxSihBVeh"
      }
    },
    {
      "cell_type": "code",
      "source": [
        "# we build a list\n",
        "city_list = ['Madrid','Barcelona','Paris','Buenos Aires']"
      ],
      "metadata": {
        "id": "Nn-xUijTBpYr"
      },
      "execution_count": null,
      "outputs": []
    },
    {
      "cell_type": "code",
      "source": [
        "# does the object include the value 'Madrid'?\n",
        "'Madrid' in city_list"
      ],
      "metadata": {
        "colab": {
          "base_uri": "https://localhost:8080/"
        },
        "id": "5HJxPH3IBsYF",
        "outputId": "e7119691-f5b8-4d9f-b18b-d713485d912e"
      },
      "execution_count": null,
      "outputs": [
        {
          "output_type": "execute_result",
          "data": {
            "text/plain": [
              "True"
            ]
          },
          "metadata": {},
          "execution_count": 10
        }
      ]
    },
    {
      "cell_type": "code",
      "source": [
        "# does the object include the value 'New York'?\n",
        "'New York' in city_list"
      ],
      "metadata": {
        "colab": {
          "base_uri": "https://localhost:8080/"
        },
        "id": "-A301q9ZBzhH",
        "outputId": "ca3bcc60-df75-48fc-88fe-56cbd2316855"
      },
      "execution_count": null,
      "outputs": [
        {
          "output_type": "execute_result",
          "data": {
            "text/plain": [
              "False"
            ]
          },
          "metadata": {},
          "execution_count": 11
        }
      ]
    },
    {
      "cell_type": "markdown",
      "metadata": {
        "id": "qdL_ZrwwxnYG"
      },
      "source": [
        "# 5. Programming basics\n",
        "---\n",
        "There are certain functionalities available across all programming languages."
      ]
    },
    {
      "cell_type": "markdown",
      "metadata": {
        "id": "qTRTsODkxyW6"
      },
      "source": [
        "### Conditional expressions\n",
        "\n",
        "A *conditional expression* performs a series of logic tests with pre-defined responses. They compose of at least one condition, but they could hold as many as needed.\n",
        "\n",
        "Basic syntaxis,\n",
        "```\n",
        "if (condition):\n",
        "  response if condition is met\n",
        "```\n",
        "\n",
        "Expanded syntaxis,\n",
        "```\n",
        "if (condition):\n",
        "  response if condition is met\n",
        "elif (second conditioon):\n",
        "  response if condition is met\n",
        "...\n",
        "else: \n",
        "  response if non of previous conditions are met\n",
        "```\n",
        "\n",
        "Note that in case of having multiple conditions, those will be tested in order; i.e. first condition met will trigger the response."
      ]
    },
    {
      "cell_type": "code",
      "metadata": {
        "colab": {
          "base_uri": "https://localhost:8080/"
        },
        "id": "VQ0ycmMP2hM8",
        "outputId": "ad0522df-513c-4c93-e6aa-73c58e45d06d"
      },
      "source": [
        "# let us create an IF condition that checks if an object is positive (greater than 0)\n",
        "obj = 10 # create an object\n",
        "\n",
        "if obj > 0:                         # condition 1: test if object is positive\n",
        "  print(\"number is positive\")       # print() displays text as output\n",
        "\n",
        "## note that we have not established a response if condition is not met"
      ],
      "execution_count": null,
      "outputs": [
        {
          "output_type": "stream",
          "text": [
            "number is positive\n"
          ],
          "name": "stdout"
        }
      ]
    },
    {
      "cell_type": "code",
      "metadata": {
        "colab": {
          "base_uri": "https://localhost:8080/"
        },
        "id": "zVXXc-M72hRm",
        "outputId": "71d6c6c8-5f9f-408f-a2c1-c70beb7fa3ef"
      },
      "source": [
        "# let us now expand the previous expression to also test if number is 0 or negative\n",
        "obj = -10 # overwriting the object with a new number\n",
        "\n",
        "if obj > 0:                         # condition 1: test if object is positive\n",
        "  print(\"number is positive\")    \n",
        "elif obj == 0:                      # condition 2: test if object is 0\n",
        "  print(\"number is 0\")\n",
        "else:                               # condition 3: test if rest of conditions are not met\n",
        "  print(\"number is negative\")\n",
        "\n"
      ],
      "execution_count": null,
      "outputs": [
        {
          "output_type": "stream",
          "text": [
            "number is negative\n"
          ],
          "name": "stdout"
        }
      ]
    },
    {
      "cell_type": "markdown",
      "metadata": {
        "id": "GoBUT6IFx1hF"
      },
      "source": [
        "### Iterations (loops)\n",
        "\n",
        "In a loop, we establish a response that will repeat multiple times, based on a given criteria.\n",
        "\n",
        "\n"
      ]
    },
    {
      "cell_type": "markdown",
      "source": [
        "#### For loops\n",
        "On a *for loop* the response will repeat as many times as the number of elements stored on a iterable data structure (usually lists).\n",
        "\n",
        "\n",
        "```\n",
        "vector = [x,y,z .. n]\n",
        "for i in object:\n",
        "  print(i)\n",
        "```"
      ],
      "metadata": {
        "id": "0qC-JZVoC-Yf"
      }
    },
    {
      "cell_type": "code",
      "metadata": {
        "colab": {
          "base_uri": "https://localhost:8080/"
        },
        "id": "lovI_K2P3y9o",
        "outputId": "2714ec4f-c495-4c86-9ce4-0aa9104132bb"
      },
      "source": [
        "my_list = [\"a\",\"b\",\"c\",\"d\",\"e\"] # we create a list\n",
        "for x in my_list: # this reads: for each element (X) stored in object (list)\n",
        "  print(x)\n",
        "\n",
        "# this loop has 5 repetitions, as there are 5 elements stored in list\n",
        "# x gets assigned value of each element on each repetition"
      ],
      "execution_count": null,
      "outputs": [
        {
          "output_type": "stream",
          "name": "stdout",
          "text": [
            "a\n",
            "b\n",
            "c\n",
            "d\n",
            "e\n"
          ]
        }
      ]
    },
    {
      "cell_type": "markdown",
      "metadata": {
        "id": "-WziRggv31NC"
      },
      "source": [
        "#### While loop\n",
        "\n",
        "Responses on *while loops* repeat as long as a condition keeps true; i.e. are not pre-established by the number of elements in a structure.\n",
        "\n",
        "```\n",
        "while (contition):\n",
        "  response\n",
        "```\n",
        "\n",
        "> ⚠️ We need to be careful to avoid infinite (endless) loops. In that case we would be forced to restart the environment\n"
      ]
    },
    {
      "cell_type": "code",
      "metadata": {
        "colab": {
          "base_uri": "https://localhost:8080/"
        },
        "id": "mzaFicUbsqs5",
        "outputId": "217b2e3f-f2cd-4414-f539-b2fd730efeec"
      },
      "source": [
        "my_object = 10                # we create an object\n",
        "while my_object <= 25:        # we establish a condition\n",
        "  print(my_object)            # printing current value of object on each repetition\n",
        "  my_object = my_object + 1   # adding 1 to current object value\n"
      ],
      "execution_count": null,
      "outputs": [
        {
          "output_type": "stream",
          "text": [
            "10\n",
            "11\n",
            "12\n",
            "13\n",
            "14\n",
            "15\n",
            "16\n",
            "17\n",
            "18\n",
            "19\n",
            "20\n",
            "21\n",
            "22\n",
            "23\n",
            "24\n",
            "25\n"
          ],
          "name": "stdout"
        }
      ]
    },
    {
      "cell_type": "markdown",
      "source": [
        "\n",
        "#### Comprehension lists\n",
        "\n",
        "*Comprehension lists* are simplified iterations that can be instrumented on a single coding line.\n",
        "\n",
        "```\n",
        "[expression(element) for element in list]\n",
        "```"
      ],
      "metadata": {
        "id": "UCq_8WQ_CyrQ"
      }
    },
    {
      "cell_type": "code",
      "source": [
        "# the following loop multiples each element in the list by 2\n",
        "my_list = [1,2,3,4,5]   # we build a list\n",
        "[x*2 for x in my_list]  # this is the comprehension list"
      ],
      "metadata": {
        "colab": {
          "base_uri": "https://localhost:8080/"
        },
        "id": "qkTI15VhCy-2",
        "outputId": "5a44ad0e-48ca-4e21-eb88-41bc10b98c71"
      },
      "execution_count": null,
      "outputs": [
        {
          "output_type": "execute_result",
          "data": {
            "text/plain": [
              "[2, 4, 6, 8, 10]"
            ]
          },
          "metadata": {},
          "execution_count": 13
        }
      ]
    },
    {
      "cell_type": "markdown",
      "source": [
        "# 6. Exercises\n",
        "---"
      ],
      "metadata": {
        "id": "sJL_Os6PeHH2"
      }
    },
    {
      "cell_type": "markdown",
      "source": [
        "### Exercise #1\n",
        "\n",
        "Below there is a list containing food names. Iterate with that list so that for each element on it you print the following text:  \n",
        "\n",
        "> I love pizza  \n",
        "I love sushi  \n",
        "I love paella  \n",
        "I love tapas\n",
        "\n",
        "> 👉 You can concatenate text by simply using the operator `+`\n"
      ],
      "metadata": {
        "id": "TMgWrnI2eIUJ"
      }
    },
    {
      "cell_type": "code",
      "source": [
        "# example of concatenating text\n",
        "my_name = 'Martin'\n",
        "print('Mi nombre es ' + my_name)"
      ],
      "metadata": {
        "colab": {
          "base_uri": "https://localhost:8080/"
        },
        "id": "slWvr5y2edUp",
        "outputId": "4b904b2d-9f39-4d4f-9a3c-87d5c927a82c"
      },
      "execution_count": null,
      "outputs": [
        {
          "output_type": "stream",
          "name": "stdout",
          "text": [
            "Mi nombre es Martin\n"
          ]
        }
      ]
    },
    {
      "cell_type": "code",
      "source": [
        "# use the following list to iterate\n",
        "food_list = ['pizza','sushi','paella','tapas']"
      ],
      "metadata": {
        "id": "MSwaoKAyefeK"
      },
      "execution_count": null,
      "outputs": []
    },
    {
      "cell_type": "markdown",
      "source": [
        "### Exercise #2\n",
        "\n",
        "Next, we find a different list with food names. Repeat exercise #1, this time avoid displaying \"onions\" and \"garlic\" (without editing the list).\n",
        "\n"
      ],
      "metadata": {
        "id": "ydSzQmule6XV"
      }
    },
    {
      "cell_type": "code",
      "source": [
        "food_list = ['pizza','sushi','onion','paella','garlic','tapas']"
      ],
      "metadata": {
        "id": "WFyC2FbFfmYw"
      },
      "execution_count": null,
      "outputs": []
    }
  ]
}