{
  "nbformat": 4,
  "nbformat_minor": 0,
  "metadata": {
    "colab": {
      "provenance": [],
      "collapsed_sections": [
        "5XJPJ1GVCt1b",
        "1D8LwEYJyYQG",
        "SkUJ0e36yo0N"
      ],
      "toc_visible": true
    },
    "kernelspec": {
      "name": "python3",
      "display_name": "Python 3"
    }
  },
  "cells": [
    {
      "cell_type": "markdown",
      "source": [
        "# **Intro to Python for Data Analysis**\n",
        "## Chapter 3: Data Manipulation\n",
        "---\n",
        "**Author:** Juan Martin Bellido  \n",
        "\n",
        "**About**  \n",
        "On this chapter we cover the two most typical data manipulation operations: *data aggregations* and *merging data tables*.\n",
        "\n",
        "**Feedback?** Please share on [LinkedIn](https://www.linkedin.com/in/jmartinbellido/)  \n"
      ],
      "metadata": {
        "id": "i3rtK-RwvcVE"
      }
    },
    {
      "cell_type": "markdown",
      "source": [
        "## Table of Contents\n",
        "---\n",
        "1. Data aggregation\n",
        "2. Merging data tables\n",
        "3. Exercises\n"
      ],
      "metadata": {
        "id": "Cc06fLEQyonR"
      }
    },
    {
      "cell_type": "markdown",
      "source": [
        "Conventions used in this document\n",
        "\n",
        "> 👉 *This is note*\n",
        "\n",
        "> ⚠️ *This is a warning*"
      ],
      "metadata": {
        "id": "Vy58FMd9zGhV"
      }
    },
    {
      "cell_type": "markdown",
      "source": [
        "# 1. Data aggregation\n",
        "---\n",
        "\n",
        "In the context of Data Analytics, to *aggregate* data means to summarize data from raw information.  \n",
        "\n",
        "When aggregating data we always perform a calculation; we implement this by using an *aggregate function*.  \n",
        "\n",
        "*List of aggregate functions*  \n",
        "\n",
        "| Function    | Description                     |\n",
        "|-------------|---------------------------------|\n",
        "| count       | Number of non-null observations |\n",
        "| nunique     | Number of unique values         |\n",
        "| sum         | Sum of values                   |\n",
        "| mean        | Mean of values                  |\n",
        "| median      | Arithmetic median of values     |\n",
        "| mode        | Mode                            |\n",
        "| min         | Minimum                         |\n",
        "| max         | Maximum     "
      ],
      "metadata": {
        "id": "sFCkGVAIzHfk"
      }
    },
    {
      "cell_type": "code",
      "source": [
        "import pandas as pd"
      ],
      "metadata": {
        "id": "mTDBBUu50wlp"
      },
      "execution_count": null,
      "outputs": []
    },
    {
      "cell_type": "code",
      "source": [
        "# import df\n",
        "df_jamesbond = pd.read_csv(\"https://data-wizards.s3.amazonaws.com/datasets/jamesbond.csv\")\n",
        "df_jamesbond.dtypes"
      ],
      "metadata": {
        "colab": {
          "base_uri": "https://localhost:8080/"
        },
        "id": "D0PPeSbq0wn2",
        "outputId": "a1861913-e83b-486a-a6bb-46d0c784b844"
      },
      "execution_count": null,
      "outputs": [
        {
          "output_type": "execute_result",
          "data": {
            "text/plain": [
              "Film                  object\n",
              "Year                   int64\n",
              "Actor                 object\n",
              "Director              object\n",
              "Box Office           float64\n",
              "Budget               float64\n",
              "Bond Actor Salary    float64\n",
              "dtype: object"
            ]
          },
          "metadata": {},
          "execution_count": 2
        }
      ]
    },
    {
      "cell_type": "markdown",
      "source": [
        "### Basic aggregation\n",
        "\n",
        "We begin performing simple aggregations by using aggregate functions on dataframes as methods.\n",
        "\n",
        "```\n",
        "df.agg_func()\n",
        "```\n",
        "\n"
      ],
      "metadata": {
        "id": "YfRKgmRf06hY"
      }
    },
    {
      "cell_type": "code",
      "source": [
        "# aggregate function\n",
        "df_jamesbond.max()\n",
        "# we get max values for each of the fields available in df"
      ],
      "metadata": {
        "id": "GJbzH0YS0wqM"
      },
      "execution_count": null,
      "outputs": []
    },
    {
      "cell_type": "code",
      "source": [
        "# we now filter one column before aggregating\n",
        "df_jamesbond.Budget.sum().round()\n",
        "# we nest a .round() method to round decimals"
      ],
      "metadata": {
        "id": "1qYfnxhW1zIk"
      },
      "execution_count": null,
      "outputs": []
    },
    {
      "cell_type": "code",
      "source": [
        "# as a second example, we now apply a different agg func\n",
        "df_jamesbond.Actor.nunique()\n",
        "# note: there are 7 unique Actors in the dataset"
      ],
      "metadata": {
        "id": "papX71hC1157"
      },
      "execution_count": null,
      "outputs": []
    },
    {
      "cell_type": "markdown",
      "source": [
        "### The `.agg()` method\n",
        "\n",
        "Pandas includes a method that simplifies aggregating data.\n",
        "\n",
        "```\n",
        "df.agg({'column':'agg_func'})\n",
        "```\n",
        "> 👉 We use a dictionary to establish column and aggregate function"
      ],
      "metadata": {
        "id": "-Eg3Ji0115Kg"
      }
    },
    {
      "cell_type": "code",
      "source": [
        "# aggregating data using .agg() method\n",
        "df_jamesbond.agg({'Actor':\"nunique\"})"
      ],
      "metadata": {
        "id": "bru-b-8116l5"
      },
      "execution_count": null,
      "outputs": []
    },
    {
      "cell_type": "code",
      "source": [
        "# aggregating column Box Office, three agg functions\n",
        "df_jamesbond.agg({'Box Office':[\"min\",\"max\",\"mean\"]})\n",
        "# note that we are using three agg functions on the same column"
      ],
      "metadata": {
        "id": "bRsF9_bN2GHZ"
      },
      "execution_count": null,
      "outputs": []
    },
    {
      "cell_type": "code",
      "source": [
        "# we now aggregate more than one column\n",
        "df_jamesbond.agg({\n",
        "    'Budget':[\"min\",\"max\",\"median\"],           \n",
        "    'Bond Actor Salary':[\"min\",\"max\",\"median\"]   \n",
        "    })"
      ],
      "metadata": {
        "id": "4GbrcuSk2GJv"
      },
      "execution_count": null,
      "outputs": []
    },
    {
      "cell_type": "markdown",
      "source": [
        "### Grouped aggregations\n",
        "\n",
        "When aggregating data, we might want to group observations in one or more categorical variables. We use the *groupby()* method to group rows in groups before aggregating data.\n",
        "\n",
        "```\n",
        "df.groupby(\"column\")\n",
        "```"
      ],
      "metadata": {
        "id": "glnqJ65Z2Tys"
      }
    },
    {
      "cell_type": "code",
      "source": [
        "# we group by actor and aggregate two metrics\n",
        "df_jamesbond.groupby(\"Actor\")[[\"Bond Actor Salary\",\"Box Office\"]].max()"
      ],
      "metadata": {
        "id": "H061Q7Lw2UDE"
      },
      "execution_count": null,
      "outputs": []
    },
    {
      "cell_type": "code",
      "source": [
        "# we repeat the exercise using the .agg() method\n",
        "df_jamesbond.groupby(\"Actor\").agg(\n",
        "    {\"Bond Actor Salary\":\"max\",\"Box Office\":\"max\"}\n",
        ")"
      ],
      "metadata": {
        "id": "zyzI8GQG2UFK"
      },
      "execution_count": null,
      "outputs": []
    },
    {
      "cell_type": "code",
      "source": [
        "# combining methods \n",
        "df_jamesbond.groupby(\"Actor\")\\\n",
        "  .agg({\"Bond Actor Salary\":\"max\",\"Box Office\":\"mean\"})\\\n",
        "  .sort_values(\"Bond Actor Salary\", ascending=False)\\\n",
        "  .rename(columns={'Bond Actor Salary':'total_bond_salary','Box Office':'total_box_office'})\n"
      ],
      "metadata": {
        "colab": {
          "base_uri": "https://localhost:8080/",
          "height": 300
        },
        "id": "NhgrZ11-2iZX",
        "outputId": "3e5ebd0b-3334-4f61-b199-acd380e3b34a"
      },
      "execution_count": null,
      "outputs": [
        {
          "output_type": "execute_result",
          "data": {
            "text/plain": [
              "                total_bond_salary  total_box_office\n",
              "Actor                                              \n",
              "Pierce Brosnan               17.9        471.650000\n",
              "Daniel Craig                 14.5        691.475000\n",
              "Roger Moore                   9.1        422.957143\n",
              "Timothy Dalton                7.9        282.200000\n",
              "Sean Connery                  5.8        571.114286\n",
              "George Lazenby                0.6        291.500000\n",
              "David Niven                   NaN        315.000000"
            ],
            "text/html": [
              "\n",
              "  <div id=\"df-82769fc2-993e-4d66-8176-b74d715f2152\">\n",
              "    <div class=\"colab-df-container\">\n",
              "      <div>\n",
              "<style scoped>\n",
              "    .dataframe tbody tr th:only-of-type {\n",
              "        vertical-align: middle;\n",
              "    }\n",
              "\n",
              "    .dataframe tbody tr th {\n",
              "        vertical-align: top;\n",
              "    }\n",
              "\n",
              "    .dataframe thead th {\n",
              "        text-align: right;\n",
              "    }\n",
              "</style>\n",
              "<table border=\"1\" class=\"dataframe\">\n",
              "  <thead>\n",
              "    <tr style=\"text-align: right;\">\n",
              "      <th></th>\n",
              "      <th>total_bond_salary</th>\n",
              "      <th>total_box_office</th>\n",
              "    </tr>\n",
              "    <tr>\n",
              "      <th>Actor</th>\n",
              "      <th></th>\n",
              "      <th></th>\n",
              "    </tr>\n",
              "  </thead>\n",
              "  <tbody>\n",
              "    <tr>\n",
              "      <th>Pierce Brosnan</th>\n",
              "      <td>17.9</td>\n",
              "      <td>471.650000</td>\n",
              "    </tr>\n",
              "    <tr>\n",
              "      <th>Daniel Craig</th>\n",
              "      <td>14.5</td>\n",
              "      <td>691.475000</td>\n",
              "    </tr>\n",
              "    <tr>\n",
              "      <th>Roger Moore</th>\n",
              "      <td>9.1</td>\n",
              "      <td>422.957143</td>\n",
              "    </tr>\n",
              "    <tr>\n",
              "      <th>Timothy Dalton</th>\n",
              "      <td>7.9</td>\n",
              "      <td>282.200000</td>\n",
              "    </tr>\n",
              "    <tr>\n",
              "      <th>Sean Connery</th>\n",
              "      <td>5.8</td>\n",
              "      <td>571.114286</td>\n",
              "    </tr>\n",
              "    <tr>\n",
              "      <th>George Lazenby</th>\n",
              "      <td>0.6</td>\n",
              "      <td>291.500000</td>\n",
              "    </tr>\n",
              "    <tr>\n",
              "      <th>David Niven</th>\n",
              "      <td>NaN</td>\n",
              "      <td>315.000000</td>\n",
              "    </tr>\n",
              "  </tbody>\n",
              "</table>\n",
              "</div>\n",
              "      <button class=\"colab-df-convert\" onclick=\"convertToInteractive('df-82769fc2-993e-4d66-8176-b74d715f2152')\"\n",
              "              title=\"Convert this dataframe to an interactive table.\"\n",
              "              style=\"display:none;\">\n",
              "        \n",
              "  <svg xmlns=\"http://www.w3.org/2000/svg\" height=\"24px\"viewBox=\"0 0 24 24\"\n",
              "       width=\"24px\">\n",
              "    <path d=\"M0 0h24v24H0V0z\" fill=\"none\"/>\n",
              "    <path d=\"M18.56 5.44l.94 2.06.94-2.06 2.06-.94-2.06-.94-.94-2.06-.94 2.06-2.06.94zm-11 1L8.5 8.5l.94-2.06 2.06-.94-2.06-.94L8.5 2.5l-.94 2.06-2.06.94zm10 10l.94 2.06.94-2.06 2.06-.94-2.06-.94-.94-2.06-.94 2.06-2.06.94z\"/><path d=\"M17.41 7.96l-1.37-1.37c-.4-.4-.92-.59-1.43-.59-.52 0-1.04.2-1.43.59L10.3 9.45l-7.72 7.72c-.78.78-.78 2.05 0 2.83L4 21.41c.39.39.9.59 1.41.59.51 0 1.02-.2 1.41-.59l7.78-7.78 2.81-2.81c.8-.78.8-2.07 0-2.86zM5.41 20L4 18.59l7.72-7.72 1.47 1.35L5.41 20z\"/>\n",
              "  </svg>\n",
              "      </button>\n",
              "      \n",
              "  <style>\n",
              "    .colab-df-container {\n",
              "      display:flex;\n",
              "      flex-wrap:wrap;\n",
              "      gap: 12px;\n",
              "    }\n",
              "\n",
              "    .colab-df-convert {\n",
              "      background-color: #E8F0FE;\n",
              "      border: none;\n",
              "      border-radius: 50%;\n",
              "      cursor: pointer;\n",
              "      display: none;\n",
              "      fill: #1967D2;\n",
              "      height: 32px;\n",
              "      padding: 0 0 0 0;\n",
              "      width: 32px;\n",
              "    }\n",
              "\n",
              "    .colab-df-convert:hover {\n",
              "      background-color: #E2EBFA;\n",
              "      box-shadow: 0px 1px 2px rgba(60, 64, 67, 0.3), 0px 1px 3px 1px rgba(60, 64, 67, 0.15);\n",
              "      fill: #174EA6;\n",
              "    }\n",
              "\n",
              "    [theme=dark] .colab-df-convert {\n",
              "      background-color: #3B4455;\n",
              "      fill: #D2E3FC;\n",
              "    }\n",
              "\n",
              "    [theme=dark] .colab-df-convert:hover {\n",
              "      background-color: #434B5C;\n",
              "      box-shadow: 0px 1px 3px 1px rgba(0, 0, 0, 0.15);\n",
              "      filter: drop-shadow(0px 1px 2px rgba(0, 0, 0, 0.3));\n",
              "      fill: #FFFFFF;\n",
              "    }\n",
              "  </style>\n",
              "\n",
              "      <script>\n",
              "        const buttonEl =\n",
              "          document.querySelector('#df-82769fc2-993e-4d66-8176-b74d715f2152 button.colab-df-convert');\n",
              "        buttonEl.style.display =\n",
              "          google.colab.kernel.accessAllowed ? 'block' : 'none';\n",
              "\n",
              "        async function convertToInteractive(key) {\n",
              "          const element = document.querySelector('#df-82769fc2-993e-4d66-8176-b74d715f2152');\n",
              "          const dataTable =\n",
              "            await google.colab.kernel.invokeFunction('convertToInteractive',\n",
              "                                                     [key], {});\n",
              "          if (!dataTable) return;\n",
              "\n",
              "          const docLinkHtml = 'Like what you see? Visit the ' +\n",
              "            '<a target=\"_blank\" href=https://colab.research.google.com/notebooks/data_table.ipynb>data table notebook</a>'\n",
              "            + ' to learn more about interactive tables.';\n",
              "          element.innerHTML = '';\n",
              "          dataTable['output_type'] = 'display_data';\n",
              "          await google.colab.output.renderOutput(dataTable, element);\n",
              "          const docLink = document.createElement('div');\n",
              "          docLink.innerHTML = docLinkHtml;\n",
              "          element.appendChild(docLink);\n",
              "        }\n",
              "      </script>\n",
              "    </div>\n",
              "  </div>\n",
              "  "
            ]
          },
          "metadata": {},
          "execution_count": 3
        }
      ]
    },
    {
      "cell_type": "code",
      "source": [
        "# aggregating grouped data\n",
        "# we observe multi-index columns in case of performing multiple operations on the same field\n",
        "df_jamesbond.groupby(\"Actor\")\\\n",
        "  .agg({\n",
        "      \"Bond Actor Salary\":[\"max\",\"sum\",\"mean\",\"size\"],\n",
        "      \"Budget\":[\"max\",\"min\"]\n",
        "    }\n",
        ").sort_values(\n",
        "    (\"Bond Actor Salary\",\"max\") # we use a tuple to refer to twofold columns\n",
        "    ,ascending=False\n",
        ")\n"
      ],
      "metadata": {
        "colab": {
          "base_uri": "https://localhost:8080/",
          "height": 331
        },
        "id": "DAwXOGwY2ibr",
        "outputId": "212742af-7a97-4164-94f2-8abaa2791b52"
      },
      "execution_count": null,
      "outputs": [
        {
          "output_type": "execute_result",
          "data": {
            "text/plain": [
              "               Bond Actor Salary                       Budget       \n",
              "                             max   sum       mean size    max    min\n",
              "Actor                                                               \n",
              "Pierce Brosnan              17.9  46.5  11.625000    4  158.3   76.9\n",
              "Daniel Craig                14.5  25.9   8.633333    4  206.3  145.3\n",
              "Roger Moore                  9.1  16.9   8.450000    7   91.5   27.7\n",
              "Timothy Dalton               7.9  13.1   6.550000    2   68.8   56.7\n",
              "Sean Connery                 5.8  20.3   3.383333    7   86.0    7.0\n",
              "George Lazenby               0.6   0.6   0.600000    1   37.3   37.3\n",
              "David Niven                  NaN   0.0        NaN    1   85.0   85.0"
            ],
            "text/html": [
              "\n",
              "  <div id=\"df-0cbcf412-9fc0-46b0-a5cf-3e6905bfce11\">\n",
              "    <div class=\"colab-df-container\">\n",
              "      <div>\n",
              "<style scoped>\n",
              "    .dataframe tbody tr th:only-of-type {\n",
              "        vertical-align: middle;\n",
              "    }\n",
              "\n",
              "    .dataframe tbody tr th {\n",
              "        vertical-align: top;\n",
              "    }\n",
              "\n",
              "    .dataframe thead tr th {\n",
              "        text-align: left;\n",
              "    }\n",
              "\n",
              "    .dataframe thead tr:last-of-type th {\n",
              "        text-align: right;\n",
              "    }\n",
              "</style>\n",
              "<table border=\"1\" class=\"dataframe\">\n",
              "  <thead>\n",
              "    <tr>\n",
              "      <th></th>\n",
              "      <th colspan=\"4\" halign=\"left\">Bond Actor Salary</th>\n",
              "      <th colspan=\"2\" halign=\"left\">Budget</th>\n",
              "    </tr>\n",
              "    <tr>\n",
              "      <th></th>\n",
              "      <th>max</th>\n",
              "      <th>sum</th>\n",
              "      <th>mean</th>\n",
              "      <th>size</th>\n",
              "      <th>max</th>\n",
              "      <th>min</th>\n",
              "    </tr>\n",
              "    <tr>\n",
              "      <th>Actor</th>\n",
              "      <th></th>\n",
              "      <th></th>\n",
              "      <th></th>\n",
              "      <th></th>\n",
              "      <th></th>\n",
              "      <th></th>\n",
              "    </tr>\n",
              "  </thead>\n",
              "  <tbody>\n",
              "    <tr>\n",
              "      <th>Pierce Brosnan</th>\n",
              "      <td>17.9</td>\n",
              "      <td>46.5</td>\n",
              "      <td>11.625000</td>\n",
              "      <td>4</td>\n",
              "      <td>158.3</td>\n",
              "      <td>76.9</td>\n",
              "    </tr>\n",
              "    <tr>\n",
              "      <th>Daniel Craig</th>\n",
              "      <td>14.5</td>\n",
              "      <td>25.9</td>\n",
              "      <td>8.633333</td>\n",
              "      <td>4</td>\n",
              "      <td>206.3</td>\n",
              "      <td>145.3</td>\n",
              "    </tr>\n",
              "    <tr>\n",
              "      <th>Roger Moore</th>\n",
              "      <td>9.1</td>\n",
              "      <td>16.9</td>\n",
              "      <td>8.450000</td>\n",
              "      <td>7</td>\n",
              "      <td>91.5</td>\n",
              "      <td>27.7</td>\n",
              "    </tr>\n",
              "    <tr>\n",
              "      <th>Timothy Dalton</th>\n",
              "      <td>7.9</td>\n",
              "      <td>13.1</td>\n",
              "      <td>6.550000</td>\n",
              "      <td>2</td>\n",
              "      <td>68.8</td>\n",
              "      <td>56.7</td>\n",
              "    </tr>\n",
              "    <tr>\n",
              "      <th>Sean Connery</th>\n",
              "      <td>5.8</td>\n",
              "      <td>20.3</td>\n",
              "      <td>3.383333</td>\n",
              "      <td>7</td>\n",
              "      <td>86.0</td>\n",
              "      <td>7.0</td>\n",
              "    </tr>\n",
              "    <tr>\n",
              "      <th>George Lazenby</th>\n",
              "      <td>0.6</td>\n",
              "      <td>0.6</td>\n",
              "      <td>0.600000</td>\n",
              "      <td>1</td>\n",
              "      <td>37.3</td>\n",
              "      <td>37.3</td>\n",
              "    </tr>\n",
              "    <tr>\n",
              "      <th>David Niven</th>\n",
              "      <td>NaN</td>\n",
              "      <td>0.0</td>\n",
              "      <td>NaN</td>\n",
              "      <td>1</td>\n",
              "      <td>85.0</td>\n",
              "      <td>85.0</td>\n",
              "    </tr>\n",
              "  </tbody>\n",
              "</table>\n",
              "</div>\n",
              "      <button class=\"colab-df-convert\" onclick=\"convertToInteractive('df-0cbcf412-9fc0-46b0-a5cf-3e6905bfce11')\"\n",
              "              title=\"Convert this dataframe to an interactive table.\"\n",
              "              style=\"display:none;\">\n",
              "        \n",
              "  <svg xmlns=\"http://www.w3.org/2000/svg\" height=\"24px\"viewBox=\"0 0 24 24\"\n",
              "       width=\"24px\">\n",
              "    <path d=\"M0 0h24v24H0V0z\" fill=\"none\"/>\n",
              "    <path d=\"M18.56 5.44l.94 2.06.94-2.06 2.06-.94-2.06-.94-.94-2.06-.94 2.06-2.06.94zm-11 1L8.5 8.5l.94-2.06 2.06-.94-2.06-.94L8.5 2.5l-.94 2.06-2.06.94zm10 10l.94 2.06.94-2.06 2.06-.94-2.06-.94-.94-2.06-.94 2.06-2.06.94z\"/><path d=\"M17.41 7.96l-1.37-1.37c-.4-.4-.92-.59-1.43-.59-.52 0-1.04.2-1.43.59L10.3 9.45l-7.72 7.72c-.78.78-.78 2.05 0 2.83L4 21.41c.39.39.9.59 1.41.59.51 0 1.02-.2 1.41-.59l7.78-7.78 2.81-2.81c.8-.78.8-2.07 0-2.86zM5.41 20L4 18.59l7.72-7.72 1.47 1.35L5.41 20z\"/>\n",
              "  </svg>\n",
              "      </button>\n",
              "      \n",
              "  <style>\n",
              "    .colab-df-container {\n",
              "      display:flex;\n",
              "      flex-wrap:wrap;\n",
              "      gap: 12px;\n",
              "    }\n",
              "\n",
              "    .colab-df-convert {\n",
              "      background-color: #E8F0FE;\n",
              "      border: none;\n",
              "      border-radius: 50%;\n",
              "      cursor: pointer;\n",
              "      display: none;\n",
              "      fill: #1967D2;\n",
              "      height: 32px;\n",
              "      padding: 0 0 0 0;\n",
              "      width: 32px;\n",
              "    }\n",
              "\n",
              "    .colab-df-convert:hover {\n",
              "      background-color: #E2EBFA;\n",
              "      box-shadow: 0px 1px 2px rgba(60, 64, 67, 0.3), 0px 1px 3px 1px rgba(60, 64, 67, 0.15);\n",
              "      fill: #174EA6;\n",
              "    }\n",
              "\n",
              "    [theme=dark] .colab-df-convert {\n",
              "      background-color: #3B4455;\n",
              "      fill: #D2E3FC;\n",
              "    }\n",
              "\n",
              "    [theme=dark] .colab-df-convert:hover {\n",
              "      background-color: #434B5C;\n",
              "      box-shadow: 0px 1px 3px 1px rgba(0, 0, 0, 0.15);\n",
              "      filter: drop-shadow(0px 1px 2px rgba(0, 0, 0, 0.3));\n",
              "      fill: #FFFFFF;\n",
              "    }\n",
              "  </style>\n",
              "\n",
              "      <script>\n",
              "        const buttonEl =\n",
              "          document.querySelector('#df-0cbcf412-9fc0-46b0-a5cf-3e6905bfce11 button.colab-df-convert');\n",
              "        buttonEl.style.display =\n",
              "          google.colab.kernel.accessAllowed ? 'block' : 'none';\n",
              "\n",
              "        async function convertToInteractive(key) {\n",
              "          const element = document.querySelector('#df-0cbcf412-9fc0-46b0-a5cf-3e6905bfce11');\n",
              "          const dataTable =\n",
              "            await google.colab.kernel.invokeFunction('convertToInteractive',\n",
              "                                                     [key], {});\n",
              "          if (!dataTable) return;\n",
              "\n",
              "          const docLinkHtml = 'Like what you see? Visit the ' +\n",
              "            '<a target=\"_blank\" href=https://colab.research.google.com/notebooks/data_table.ipynb>data table notebook</a>'\n",
              "            + ' to learn more about interactive tables.';\n",
              "          element.innerHTML = '';\n",
              "          dataTable['output_type'] = 'display_data';\n",
              "          await google.colab.output.renderOutput(dataTable, element);\n",
              "          const docLink = document.createElement('div');\n",
              "          docLink.innerHTML = docLinkHtml;\n",
              "          element.appendChild(docLink);\n",
              "        }\n",
              "      </script>\n",
              "    </div>\n",
              "  </div>\n",
              "  "
            ]
          },
          "metadata": {},
          "execution_count": 4
        }
      ]
    },
    {
      "cell_type": "markdown",
      "source": [
        "# 2. Merging data tables\n",
        "---\n",
        "\n"
      ],
      "metadata": {
        "id": "NOCjdaGd3lWT"
      }
    },
    {
      "cell_type": "code",
      "source": [
        "# importing df\n",
        "df_jamesbond = pd.read_csv(\"https://data-wizards.s3.amazonaws.com/datasets/jamesbond.csv\")\n",
        "df_jamesbond.dtypes"
      ],
      "metadata": {
        "colab": {
          "base_uri": "https://localhost:8080/"
        },
        "id": "yEEKyAOP3lxX",
        "outputId": "b5b11e10-973b-4efe-f6ba-0037319724cb"
      },
      "execution_count": null,
      "outputs": [
        {
          "output_type": "execute_result",
          "data": {
            "text/plain": [
              "Film                  object\n",
              "Year                   int64\n",
              "Actor                 object\n",
              "Director              object\n",
              "Box Office           float64\n",
              "Budget               float64\n",
              "Bond Actor Salary    float64\n",
              "dtype: object"
            ]
          },
          "metadata": {},
          "execution_count": 5
        }
      ]
    },
    {
      "cell_type": "markdown",
      "source": [
        "### Unions (merging rows)\n",
        "\n",
        "We use the `pd.concat()` function to perform unions."
      ],
      "metadata": {
        "id": "9-na4t8z4_6W"
      }
    },
    {
      "cell_type": "code",
      "source": [
        "pd.concat([df_jamesbond.head(2),df_jamesbond.tail(2)])"
      ],
      "metadata": {
        "colab": {
          "base_uri": "https://localhost:8080/",
          "height": 175
        },
        "id": "AJ0Ips9Y3lzt",
        "outputId": "8f5fdb3e-25fd-40f8-dbdb-868c686feebc"
      },
      "execution_count": null,
      "outputs": [
        {
          "output_type": "execute_result",
          "data": {
            "text/plain": [
              "                     Film  Year         Actor       Director  Box Office  \\\n",
              "0                  Dr. No  1962  Sean Connery  Terence Young       448.8   \n",
              "1   From Russia with Love  1963  Sean Connery  Terence Young       543.8   \n",
              "24                Skyfall  2012  Daniel Craig     Sam Mendes       943.5   \n",
              "25                Spectre  2015  Daniel Craig     Sam Mendes       726.7   \n",
              "\n",
              "    Budget  Bond Actor Salary  \n",
              "0      7.0                0.6  \n",
              "1     12.6                1.6  \n",
              "24   170.2               14.5  \n",
              "25   206.3                NaN  "
            ],
            "text/html": [
              "\n",
              "  <div id=\"df-f484ee48-5f2f-4524-9018-f07d823c87ad\">\n",
              "    <div class=\"colab-df-container\">\n",
              "      <div>\n",
              "<style scoped>\n",
              "    .dataframe tbody tr th:only-of-type {\n",
              "        vertical-align: middle;\n",
              "    }\n",
              "\n",
              "    .dataframe tbody tr th {\n",
              "        vertical-align: top;\n",
              "    }\n",
              "\n",
              "    .dataframe thead th {\n",
              "        text-align: right;\n",
              "    }\n",
              "</style>\n",
              "<table border=\"1\" class=\"dataframe\">\n",
              "  <thead>\n",
              "    <tr style=\"text-align: right;\">\n",
              "      <th></th>\n",
              "      <th>Film</th>\n",
              "      <th>Year</th>\n",
              "      <th>Actor</th>\n",
              "      <th>Director</th>\n",
              "      <th>Box Office</th>\n",
              "      <th>Budget</th>\n",
              "      <th>Bond Actor Salary</th>\n",
              "    </tr>\n",
              "  </thead>\n",
              "  <tbody>\n",
              "    <tr>\n",
              "      <th>0</th>\n",
              "      <td>Dr. No</td>\n",
              "      <td>1962</td>\n",
              "      <td>Sean Connery</td>\n",
              "      <td>Terence Young</td>\n",
              "      <td>448.8</td>\n",
              "      <td>7.0</td>\n",
              "      <td>0.6</td>\n",
              "    </tr>\n",
              "    <tr>\n",
              "      <th>1</th>\n",
              "      <td>From Russia with Love</td>\n",
              "      <td>1963</td>\n",
              "      <td>Sean Connery</td>\n",
              "      <td>Terence Young</td>\n",
              "      <td>543.8</td>\n",
              "      <td>12.6</td>\n",
              "      <td>1.6</td>\n",
              "    </tr>\n",
              "    <tr>\n",
              "      <th>24</th>\n",
              "      <td>Skyfall</td>\n",
              "      <td>2012</td>\n",
              "      <td>Daniel Craig</td>\n",
              "      <td>Sam Mendes</td>\n",
              "      <td>943.5</td>\n",
              "      <td>170.2</td>\n",
              "      <td>14.5</td>\n",
              "    </tr>\n",
              "    <tr>\n",
              "      <th>25</th>\n",
              "      <td>Spectre</td>\n",
              "      <td>2015</td>\n",
              "      <td>Daniel Craig</td>\n",
              "      <td>Sam Mendes</td>\n",
              "      <td>726.7</td>\n",
              "      <td>206.3</td>\n",
              "      <td>NaN</td>\n",
              "    </tr>\n",
              "  </tbody>\n",
              "</table>\n",
              "</div>\n",
              "      <button class=\"colab-df-convert\" onclick=\"convertToInteractive('df-f484ee48-5f2f-4524-9018-f07d823c87ad')\"\n",
              "              title=\"Convert this dataframe to an interactive table.\"\n",
              "              style=\"display:none;\">\n",
              "        \n",
              "  <svg xmlns=\"http://www.w3.org/2000/svg\" height=\"24px\"viewBox=\"0 0 24 24\"\n",
              "       width=\"24px\">\n",
              "    <path d=\"M0 0h24v24H0V0z\" fill=\"none\"/>\n",
              "    <path d=\"M18.56 5.44l.94 2.06.94-2.06 2.06-.94-2.06-.94-.94-2.06-.94 2.06-2.06.94zm-11 1L8.5 8.5l.94-2.06 2.06-.94-2.06-.94L8.5 2.5l-.94 2.06-2.06.94zm10 10l.94 2.06.94-2.06 2.06-.94-2.06-.94-.94-2.06-.94 2.06-2.06.94z\"/><path d=\"M17.41 7.96l-1.37-1.37c-.4-.4-.92-.59-1.43-.59-.52 0-1.04.2-1.43.59L10.3 9.45l-7.72 7.72c-.78.78-.78 2.05 0 2.83L4 21.41c.39.39.9.59 1.41.59.51 0 1.02-.2 1.41-.59l7.78-7.78 2.81-2.81c.8-.78.8-2.07 0-2.86zM5.41 20L4 18.59l7.72-7.72 1.47 1.35L5.41 20z\"/>\n",
              "  </svg>\n",
              "      </button>\n",
              "      \n",
              "  <style>\n",
              "    .colab-df-container {\n",
              "      display:flex;\n",
              "      flex-wrap:wrap;\n",
              "      gap: 12px;\n",
              "    }\n",
              "\n",
              "    .colab-df-convert {\n",
              "      background-color: #E8F0FE;\n",
              "      border: none;\n",
              "      border-radius: 50%;\n",
              "      cursor: pointer;\n",
              "      display: none;\n",
              "      fill: #1967D2;\n",
              "      height: 32px;\n",
              "      padding: 0 0 0 0;\n",
              "      width: 32px;\n",
              "    }\n",
              "\n",
              "    .colab-df-convert:hover {\n",
              "      background-color: #E2EBFA;\n",
              "      box-shadow: 0px 1px 2px rgba(60, 64, 67, 0.3), 0px 1px 3px 1px rgba(60, 64, 67, 0.15);\n",
              "      fill: #174EA6;\n",
              "    }\n",
              "\n",
              "    [theme=dark] .colab-df-convert {\n",
              "      background-color: #3B4455;\n",
              "      fill: #D2E3FC;\n",
              "    }\n",
              "\n",
              "    [theme=dark] .colab-df-convert:hover {\n",
              "      background-color: #434B5C;\n",
              "      box-shadow: 0px 1px 3px 1px rgba(0, 0, 0, 0.15);\n",
              "      filter: drop-shadow(0px 1px 2px rgba(0, 0, 0, 0.3));\n",
              "      fill: #FFFFFF;\n",
              "    }\n",
              "  </style>\n",
              "\n",
              "      <script>\n",
              "        const buttonEl =\n",
              "          document.querySelector('#df-f484ee48-5f2f-4524-9018-f07d823c87ad button.colab-df-convert');\n",
              "        buttonEl.style.display =\n",
              "          google.colab.kernel.accessAllowed ? 'block' : 'none';\n",
              "\n",
              "        async function convertToInteractive(key) {\n",
              "          const element = document.querySelector('#df-f484ee48-5f2f-4524-9018-f07d823c87ad');\n",
              "          const dataTable =\n",
              "            await google.colab.kernel.invokeFunction('convertToInteractive',\n",
              "                                                     [key], {});\n",
              "          if (!dataTable) return;\n",
              "\n",
              "          const docLinkHtml = 'Like what you see? Visit the ' +\n",
              "            '<a target=\"_blank\" href=https://colab.research.google.com/notebooks/data_table.ipynb>data table notebook</a>'\n",
              "            + ' to learn more about interactive tables.';\n",
              "          element.innerHTML = '';\n",
              "          dataTable['output_type'] = 'display_data';\n",
              "          await google.colab.output.renderOutput(dataTable, element);\n",
              "          const docLink = document.createElement('div');\n",
              "          docLink.innerHTML = docLinkHtml;\n",
              "          element.appendChild(docLink);\n",
              "        }\n",
              "      </script>\n",
              "    </div>\n",
              "  </div>\n",
              "  "
            ]
          },
          "metadata": {},
          "execution_count": 6
        }
      ]
    },
    {
      "cell_type": "markdown",
      "source": [
        "### Joins: merging tables by field in common\n",
        "\n",
        "We use pandas `merge()` method to join two DataFrames. As in SQL, we can choose among different join types (i.e. *left, right, inner*).\n",
        "\n",
        "```\n",
        "df_1.merge(df_2,how='inner',on=None, ...)\n",
        "```\n",
        "In case fields in common are named differently on each table, we can specify names using the *left_on* and *right_on* paramaters.\n",
        "\n",
        "```\n",
        "df_1.merge(df_2,how='inner',left_on='key',right_on='key', ...)\n",
        "```"
      ],
      "metadata": {
        "id": "X_zeLC9d5NN6"
      }
    },
    {
      "cell_type": "code",
      "source": [
        "# importing df 1\n",
        "df_albums = pd.read_csv('https://data-wizards.s3.amazonaws.com/datasets/rolling_stones_top_metal_albums.csv')\n",
        "df_albums.dtypes"
      ],
      "metadata": {
        "colab": {
          "base_uri": "https://localhost:8080/"
        },
        "id": "oGbVkwhD3l2C",
        "outputId": "91ca4108-44b2-43db-9c29-3616b0a23d54"
      },
      "execution_count": null,
      "outputs": [
        {
          "output_type": "execute_result",
          "data": {
            "text/plain": [
              "AlbumID_Rank              int64\n",
              "Artist                   object\n",
              "Album                    object\n",
              "Release_Year              int64\n",
              "Spotify_Album            object\n",
              "Description              object\n",
              "wiki                     object\n",
              "Duration                 object\n",
              "Minutes                   int64\n",
              "Seconds                   int64\n",
              "Total_Seconds             int64\n",
              "Label                    object\n",
              "Sub_Metal_Genre          object\n",
              "Rating                  float64\n",
              "Rolling_Stone_Rating     object\n",
              "dtype: object"
            ]
          },
          "metadata": {},
          "execution_count": 7
        }
      ]
    },
    {
      "cell_type": "code",
      "source": [
        "# importing df 2\n",
        "df_songs = pd.read_csv('https://data-wizards.s3.amazonaws.com/datasets/rolling_stones_top_metal_songs.csv')\n",
        "df_songs.dtypes"
      ],
      "metadata": {
        "colab": {
          "base_uri": "https://localhost:8080/"
        },
        "id": "8LbIzCXb5yzX",
        "outputId": "3e118377-3482-4f03-edec-6cc1cdf584bb"
      },
      "execution_count": null,
      "outputs": [
        {
          "output_type": "execute_result",
          "data": {
            "text/plain": [
              "Song Index       int64\n",
              "Song            object\n",
              "Artist          object\n",
              "Track No.        int64\n",
              "AlbumID_Rank     int64\n",
              "BPM              int64\n",
              "Energy           int64\n",
              "Dance            int64\n",
              "Loud             int64\n",
              "Valence          int64\n",
              "Duration        object\n",
              "Acoustic         int64\n",
              "Popularity       int64\n",
              "Spotify_Song    object\n",
              "dtype: object"
            ]
          },
          "metadata": {},
          "execution_count": 8
        }
      ]
    },
    {
      "cell_type": "code",
      "source": [
        "df_songs[['Song','Artist','AlbumID_Rank']].merge(\n",
        "    df_albums[['AlbumID_Rank','Album','Release_Year']]  # df 2\n",
        "    ,how='left'                                         # join type\n",
        "    ,left_on='AlbumID_Rank'                             # key on left table \n",
        "    ,right_on='AlbumID_Rank'                            # key on right table\n",
        ")"
      ],
      "metadata": {
        "colab": {
          "base_uri": "https://localhost:8080/",
          "height": 424
        },
        "id": "_kr8GNbl54dV",
        "outputId": "763e003a-d1d9-4cd9-e382-440e9c55396f"
      },
      "execution_count": null,
      "outputs": [
        {
          "output_type": "execute_result",
          "data": {
            "text/plain": [
              "                                        Song             Artist  AlbumID_Rank  \\\n",
              "0     War Pigs / Luke's Wall - 2014 Remaster      Black Sabbath             1   \n",
              "1                   Paranoid - 2016 Remaster      Black Sabbath             1   \n",
              "2             Planet Caravan - 2013 Remaster      Black Sabbath             1   \n",
              "3                   Iron Man - 2014 Remaster      Black Sabbath             1   \n",
              "4           Electric Funeral - 2013 Remaster      Black Sabbath             1   \n",
              "...                                      ...                ...           ...   \n",
              "1045                              Sidewinder  Avenged Sevenfold           100   \n",
              "1046                          The Wicked End  Avenged Sevenfold           100   \n",
              "1047                   Strength of the World  Avenged Sevenfold           100   \n",
              "1048                                Betrayed  Avenged Sevenfold           100   \n",
              "1049                                  M.I.A.  Avenged Sevenfold           100   \n",
              "\n",
              "             Album  Release_Year  \n",
              "0         Paranoid          1970  \n",
              "1         Paranoid          1970  \n",
              "2         Paranoid          1970  \n",
              "3         Paranoid          1970  \n",
              "4         Paranoid          1970  \n",
              "...            ...           ...  \n",
              "1045  City of Evil          2005  \n",
              "1046  City of Evil          2005  \n",
              "1047  City of Evil          2005  \n",
              "1048  City of Evil          2005  \n",
              "1049  City of Evil          2005  \n",
              "\n",
              "[1050 rows x 5 columns]"
            ],
            "text/html": [
              "\n",
              "  <div id=\"df-7cdc9db8-4d9e-4c94-9194-75e91a088fc7\">\n",
              "    <div class=\"colab-df-container\">\n",
              "      <div>\n",
              "<style scoped>\n",
              "    .dataframe tbody tr th:only-of-type {\n",
              "        vertical-align: middle;\n",
              "    }\n",
              "\n",
              "    .dataframe tbody tr th {\n",
              "        vertical-align: top;\n",
              "    }\n",
              "\n",
              "    .dataframe thead th {\n",
              "        text-align: right;\n",
              "    }\n",
              "</style>\n",
              "<table border=\"1\" class=\"dataframe\">\n",
              "  <thead>\n",
              "    <tr style=\"text-align: right;\">\n",
              "      <th></th>\n",
              "      <th>Song</th>\n",
              "      <th>Artist</th>\n",
              "      <th>AlbumID_Rank</th>\n",
              "      <th>Album</th>\n",
              "      <th>Release_Year</th>\n",
              "    </tr>\n",
              "  </thead>\n",
              "  <tbody>\n",
              "    <tr>\n",
              "      <th>0</th>\n",
              "      <td>War Pigs / Luke's Wall - 2014 Remaster</td>\n",
              "      <td>Black Sabbath</td>\n",
              "      <td>1</td>\n",
              "      <td>Paranoid</td>\n",
              "      <td>1970</td>\n",
              "    </tr>\n",
              "    <tr>\n",
              "      <th>1</th>\n",
              "      <td>Paranoid - 2016 Remaster</td>\n",
              "      <td>Black Sabbath</td>\n",
              "      <td>1</td>\n",
              "      <td>Paranoid</td>\n",
              "      <td>1970</td>\n",
              "    </tr>\n",
              "    <tr>\n",
              "      <th>2</th>\n",
              "      <td>Planet Caravan - 2013 Remaster</td>\n",
              "      <td>Black Sabbath</td>\n",
              "      <td>1</td>\n",
              "      <td>Paranoid</td>\n",
              "      <td>1970</td>\n",
              "    </tr>\n",
              "    <tr>\n",
              "      <th>3</th>\n",
              "      <td>Iron Man - 2014 Remaster</td>\n",
              "      <td>Black Sabbath</td>\n",
              "      <td>1</td>\n",
              "      <td>Paranoid</td>\n",
              "      <td>1970</td>\n",
              "    </tr>\n",
              "    <tr>\n",
              "      <th>4</th>\n",
              "      <td>Electric Funeral - 2013 Remaster</td>\n",
              "      <td>Black Sabbath</td>\n",
              "      <td>1</td>\n",
              "      <td>Paranoid</td>\n",
              "      <td>1970</td>\n",
              "    </tr>\n",
              "    <tr>\n",
              "      <th>...</th>\n",
              "      <td>...</td>\n",
              "      <td>...</td>\n",
              "      <td>...</td>\n",
              "      <td>...</td>\n",
              "      <td>...</td>\n",
              "    </tr>\n",
              "    <tr>\n",
              "      <th>1045</th>\n",
              "      <td>Sidewinder</td>\n",
              "      <td>Avenged Sevenfold</td>\n",
              "      <td>100</td>\n",
              "      <td>City of Evil</td>\n",
              "      <td>2005</td>\n",
              "    </tr>\n",
              "    <tr>\n",
              "      <th>1046</th>\n",
              "      <td>The Wicked End</td>\n",
              "      <td>Avenged Sevenfold</td>\n",
              "      <td>100</td>\n",
              "      <td>City of Evil</td>\n",
              "      <td>2005</td>\n",
              "    </tr>\n",
              "    <tr>\n",
              "      <th>1047</th>\n",
              "      <td>Strength of the World</td>\n",
              "      <td>Avenged Sevenfold</td>\n",
              "      <td>100</td>\n",
              "      <td>City of Evil</td>\n",
              "      <td>2005</td>\n",
              "    </tr>\n",
              "    <tr>\n",
              "      <th>1048</th>\n",
              "      <td>Betrayed</td>\n",
              "      <td>Avenged Sevenfold</td>\n",
              "      <td>100</td>\n",
              "      <td>City of Evil</td>\n",
              "      <td>2005</td>\n",
              "    </tr>\n",
              "    <tr>\n",
              "      <th>1049</th>\n",
              "      <td>M.I.A.</td>\n",
              "      <td>Avenged Sevenfold</td>\n",
              "      <td>100</td>\n",
              "      <td>City of Evil</td>\n",
              "      <td>2005</td>\n",
              "    </tr>\n",
              "  </tbody>\n",
              "</table>\n",
              "<p>1050 rows × 5 columns</p>\n",
              "</div>\n",
              "      <button class=\"colab-df-convert\" onclick=\"convertToInteractive('df-7cdc9db8-4d9e-4c94-9194-75e91a088fc7')\"\n",
              "              title=\"Convert this dataframe to an interactive table.\"\n",
              "              style=\"display:none;\">\n",
              "        \n",
              "  <svg xmlns=\"http://www.w3.org/2000/svg\" height=\"24px\"viewBox=\"0 0 24 24\"\n",
              "       width=\"24px\">\n",
              "    <path d=\"M0 0h24v24H0V0z\" fill=\"none\"/>\n",
              "    <path d=\"M18.56 5.44l.94 2.06.94-2.06 2.06-.94-2.06-.94-.94-2.06-.94 2.06-2.06.94zm-11 1L8.5 8.5l.94-2.06 2.06-.94-2.06-.94L8.5 2.5l-.94 2.06-2.06.94zm10 10l.94 2.06.94-2.06 2.06-.94-2.06-.94-.94-2.06-.94 2.06-2.06.94z\"/><path d=\"M17.41 7.96l-1.37-1.37c-.4-.4-.92-.59-1.43-.59-.52 0-1.04.2-1.43.59L10.3 9.45l-7.72 7.72c-.78.78-.78 2.05 0 2.83L4 21.41c.39.39.9.59 1.41.59.51 0 1.02-.2 1.41-.59l7.78-7.78 2.81-2.81c.8-.78.8-2.07 0-2.86zM5.41 20L4 18.59l7.72-7.72 1.47 1.35L5.41 20z\"/>\n",
              "  </svg>\n",
              "      </button>\n",
              "      \n",
              "  <style>\n",
              "    .colab-df-container {\n",
              "      display:flex;\n",
              "      flex-wrap:wrap;\n",
              "      gap: 12px;\n",
              "    }\n",
              "\n",
              "    .colab-df-convert {\n",
              "      background-color: #E8F0FE;\n",
              "      border: none;\n",
              "      border-radius: 50%;\n",
              "      cursor: pointer;\n",
              "      display: none;\n",
              "      fill: #1967D2;\n",
              "      height: 32px;\n",
              "      padding: 0 0 0 0;\n",
              "      width: 32px;\n",
              "    }\n",
              "\n",
              "    .colab-df-convert:hover {\n",
              "      background-color: #E2EBFA;\n",
              "      box-shadow: 0px 1px 2px rgba(60, 64, 67, 0.3), 0px 1px 3px 1px rgba(60, 64, 67, 0.15);\n",
              "      fill: #174EA6;\n",
              "    }\n",
              "\n",
              "    [theme=dark] .colab-df-convert {\n",
              "      background-color: #3B4455;\n",
              "      fill: #D2E3FC;\n",
              "    }\n",
              "\n",
              "    [theme=dark] .colab-df-convert:hover {\n",
              "      background-color: #434B5C;\n",
              "      box-shadow: 0px 1px 3px 1px rgba(0, 0, 0, 0.15);\n",
              "      filter: drop-shadow(0px 1px 2px rgba(0, 0, 0, 0.3));\n",
              "      fill: #FFFFFF;\n",
              "    }\n",
              "  </style>\n",
              "\n",
              "      <script>\n",
              "        const buttonEl =\n",
              "          document.querySelector('#df-7cdc9db8-4d9e-4c94-9194-75e91a088fc7 button.colab-df-convert');\n",
              "        buttonEl.style.display =\n",
              "          google.colab.kernel.accessAllowed ? 'block' : 'none';\n",
              "\n",
              "        async function convertToInteractive(key) {\n",
              "          const element = document.querySelector('#df-7cdc9db8-4d9e-4c94-9194-75e91a088fc7');\n",
              "          const dataTable =\n",
              "            await google.colab.kernel.invokeFunction('convertToInteractive',\n",
              "                                                     [key], {});\n",
              "          if (!dataTable) return;\n",
              "\n",
              "          const docLinkHtml = 'Like what you see? Visit the ' +\n",
              "            '<a target=\"_blank\" href=https://colab.research.google.com/notebooks/data_table.ipynb>data table notebook</a>'\n",
              "            + ' to learn more about interactive tables.';\n",
              "          element.innerHTML = '';\n",
              "          dataTable['output_type'] = 'display_data';\n",
              "          await google.colab.output.renderOutput(dataTable, element);\n",
              "          const docLink = document.createElement('div');\n",
              "          docLink.innerHTML = docLinkHtml;\n",
              "          element.appendChild(docLink);\n",
              "        }\n",
              "      </script>\n",
              "    </div>\n",
              "  </div>\n",
              "  "
            ]
          },
          "metadata": {},
          "execution_count": 9
        }
      ]
    },
    {
      "cell_type": "markdown",
      "metadata": {
        "id": "u95A66sb2gte"
      },
      "source": [
        "# 3. Exercises\n",
        "---\n",
        "\n",
        "> 👉 Solutions to exercises are available [here](https://nbviewer.org/github/SomosDataWizards/Python-Intro-Course/blob/main/Chapter_3_Exercises.ipynb)\n"
      ]
    },
    {
      "cell_type": "markdown",
      "metadata": {
        "id": "iZmjtenh3sq7"
      },
      "source": [
        "### Exercise #1\n",
        "\n",
        "A. Calculate total revenue by sector  \n",
        "B. Repeat previous exercise but filtering for only companies in sector *Technology, Energy or Retailing*\n",
        "\n",
        "> Dataset https://data-wizards.s3.amazonaws.com/datasets/fortune1000.csv\n",
        "\n"
      ]
    },
    {
      "cell_type": "code",
      "source": [
        "import pandas as pd\n",
        "df_fortune = pd.read_csv(\"https://data-wizards.s3.amazonaws.com/datasets/fortune1000.csv\")\n",
        "df_fortune.dtypes"
      ],
      "metadata": {
        "colab": {
          "base_uri": "https://localhost:8080/"
        },
        "id": "28D84TcN6iKX",
        "outputId": "1420ecec-8f58-4ca7-afa6-4ba83cefaca5"
      },
      "execution_count": null,
      "outputs": [
        {
          "output_type": "execute_result",
          "data": {
            "text/plain": [
              "Rank          int64\n",
              "Company      object\n",
              "Sector       object\n",
              "Industry     object\n",
              "Location     object\n",
              "Revenue       int64\n",
              "Profits       int64\n",
              "Employees     int64\n",
              "dtype: object"
            ]
          },
          "metadata": {},
          "execution_count": 10
        }
      ]
    },
    {
      "cell_type": "markdown",
      "metadata": {
        "id": "fioC6Xtj3tnH"
      },
      "source": [
        "### Exercise #2\n",
        "\n",
        "\n",
        "Extract top 5 homeworlds with highest number of characters included in DataFrame.  \n",
        "\n",
        "> Dataset https://data-wizards.s3.amazonaws.com/datasets/starwarsdb_people.csv\n",
        "\n",
        "\n",
        "\n"
      ]
    },
    {
      "cell_type": "code",
      "source": [
        "import pandas as pd\n",
        "df_starwars_people = pd.read_csv(\"https://data-wizards.s3.amazonaws.com/datasets/starwarsdb_people.csv\")\n",
        "df_starwars_people.dtypes"
      ],
      "metadata": {
        "colab": {
          "base_uri": "https://localhost:8080/"
        },
        "id": "RfwoDRW18yM0",
        "outputId": "ed3dc324-4c66-4cc8-c5bb-3290c7399c4d"
      },
      "execution_count": null,
      "outputs": [
        {
          "output_type": "execute_result",
          "data": {
            "text/plain": [
              "name           object\n",
              "height        float64\n",
              "mass          float64\n",
              "hair_color     object\n",
              "skin_color     object\n",
              "eye_color      object\n",
              "birth_year    float64\n",
              "gender         object\n",
              "homeworld      object\n",
              "species        object\n",
              "sex            object\n",
              "dtype: object"
            ]
          },
          "metadata": {},
          "execution_count": 13
        }
      ]
    },
    {
      "cell_type": "markdown",
      "metadata": {
        "id": "cGaMtHUHq4EZ"
      },
      "source": [
        "### Exercise #3\n",
        "\n",
        "Aggregate the following metrics by continent,\n",
        "\n",
        "*   *Total population*\n",
        "*   *Average GDP per capita*\n",
        "*   *Average % of population living below poberty line*\n",
        "\n",
        "> Dataset https://data-wizards.s3.amazonaws.com/datasets/dataset_na_who.csv\n",
        "\n",
        "\n"
      ]
    },
    {
      "cell_type": "code",
      "source": [
        "import pandas as pd\n",
        "df_who = pd.read_csv('https://data-wizards.s3.amazonaws.com/datasets/dataset_na_who.csv')\n",
        "df_who.dtypes"
      ],
      "metadata": {
        "colab": {
          "base_uri": "https://localhost:8080/"
        },
        "id": "LPiZy5eT9FrJ",
        "outputId": "3bdd8a96-7b42-4c72-8f2f-34ed2e3a7aaa"
      },
      "execution_count": null,
      "outputs": [
        {
          "output_type": "execute_result",
          "data": {
            "text/plain": [
              "Country                                                    object\n",
              "CountryID                                                   int64\n",
              "ContinentID                                                 int64\n",
              "Adolescent fertility rate (%)                             float64\n",
              "Adult literacy rate (%)                                   float64\n",
              "Gross national income per capita (PPP international $)    float64\n",
              "Net primary school enrolment ratio female (%)             float64\n",
              "Net primary school enrolment ratio male (%)               float64\n",
              "Population (in thousands) total                           float64\n",
              "Population annual growth rate (%)                         float64\n",
              "Population in urban areas (%)                             float64\n",
              "Population living below the poverty line                  float64\n",
              "Continent                                                  object\n",
              "dtype: object"
            ]
          },
          "metadata": {},
          "execution_count": 16
        }
      ]
    }
  ]
}