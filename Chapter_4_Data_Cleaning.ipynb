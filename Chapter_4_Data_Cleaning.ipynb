{
  "nbformat": 4,
  "nbformat_minor": 0,
  "metadata": {
    "colab": {
      "provenance": [],
      "collapsed_sections": [],
      "toc_visible": true
    },
    "kernelspec": {
      "name": "python3",
      "display_name": "Python 3"
    }
  },
  "cells": [
    {
      "cell_type": "markdown",
      "metadata": {
        "id": "C9lrzNZKKtUL"
      },
      "source": [
        "# **Intro to Python for Data Analysis**\n",
        "## Chapter 4: Data Cleaning\n",
        "---\n",
        "**Author:** Juan Martin Bellido  \n",
        "\n",
        "**About**  \n",
        "The data we work with is not always clean. On this chapter, we go though most common data cleaning operations.\n",
        "\n",
        "**Feedback?** Please share on [LinkedIn](https://www.linkedin.com/in/jmartinbellido/)  \n"
      ]
    },
    {
      "cell_type": "markdown",
      "source": [
        "## Table of Contents\n",
        "---\n",
        "1. Opearating null values\n",
        "2. Handling duplicated values\n",
        "3. Identifying outliers\n",
        "4. Cleaning for text mining\n",
        "5. Exercises\n"
      ],
      "metadata": {
        "id": "MVM3zW_vQHrn"
      }
    },
    {
      "cell_type": "markdown",
      "source": [
        "Conventions used in this document\n",
        "\n",
        "> 👉 *This is note*\n",
        "\n",
        "> ⚠️ *This is a warning*"
      ],
      "metadata": {
        "id": "T2SqWrmfQUfa"
      }
    },
    {
      "cell_type": "code",
      "metadata": {
        "id": "5eqClCOoPuPC"
      },
      "source": [
        "# importing libraries\n",
        "import pandas as pd\n",
        "import numpy as np\n",
        "from scipy import stats"
      ],
      "execution_count": null,
      "outputs": []
    },
    {
      "cell_type": "markdown",
      "metadata": {
        "id": "Hk032esCg80J"
      },
      "source": [
        "# 1. Operating null values\n",
        "---\n",
        "\n",
        "A null (NA) value is that for which we do not have available information. We usualy encounter NA values; these can be caused by isses when capturing, storing or manipulating data.\n",
        "\n",
        "\n",
        "\n"
      ]
    },
    {
      "cell_type": "code",
      "metadata": {
        "id": "IEAZPwOs_oDP"
      },
      "source": [
        "# importing df\n",
        "df_jamesbond = pd.read_csv(\"https://data-wizards.s3.amazonaws.com/datasets/jamesbond.csv\",index_col=\"Film\")"
      ],
      "execution_count": null,
      "outputs": []
    },
    {
      "cell_type": "markdown",
      "metadata": {
        "id": "GCT9M535ABjf"
      },
      "source": [
        "### Identifying null values in a DataFrame\n",
        "\n",
        "The first step is to check if there are indeed null values in the DataFrame and identify on which field.\n",
        "\n",
        "There are two functions that will help us with this,\n",
        "\n",
        "```\n",
        "isna(object)\n",
        "```\n",
        "> 👉 *The isna() method test if values are NaN (True) or not (False)*\n",
        "\n",
        "```\n",
        "any(boolean object)\n",
        "```\n",
        "> 👉 *The any() method test if at least one of the boolean elements is True*\n",
        "\n",
        "\n",
        "\n",
        "\n",
        "\n",
        "\n",
        "\n",
        "\n"
      ]
    },
    {
      "cell_type": "code",
      "metadata": {
        "id": "AZHgPheMHoem",
        "colab": {
          "base_uri": "https://localhost:8080/",
          "height": 914
        },
        "outputId": "c2bed95d-8b46-4d65-859b-6ff93d078d21"
      },
      "source": [
        "# step 1: we use the isna() method to test for NA values in the dataFrame\n",
        "nan_values = df_jamesbond.isna() # testing for NAs\n",
        "nan_values "
      ],
      "execution_count": null,
      "outputs": [
        {
          "output_type": "execute_result",
          "data": {
            "text/html": [
              "<div>\n",
              "<style scoped>\n",
              "    .dataframe tbody tr th:only-of-type {\n",
              "        vertical-align: middle;\n",
              "    }\n",
              "\n",
              "    .dataframe tbody tr th {\n",
              "        vertical-align: top;\n",
              "    }\n",
              "\n",
              "    .dataframe thead th {\n",
              "        text-align: right;\n",
              "    }\n",
              "</style>\n",
              "<table border=\"1\" class=\"dataframe\">\n",
              "  <thead>\n",
              "    <tr style=\"text-align: right;\">\n",
              "      <th></th>\n",
              "      <th>Year</th>\n",
              "      <th>Actor</th>\n",
              "      <th>Director</th>\n",
              "      <th>Box Office</th>\n",
              "      <th>Budget</th>\n",
              "      <th>Bond Actor Salary</th>\n",
              "    </tr>\n",
              "    <tr>\n",
              "      <th>Film</th>\n",
              "      <th></th>\n",
              "      <th></th>\n",
              "      <th></th>\n",
              "      <th></th>\n",
              "      <th></th>\n",
              "      <th></th>\n",
              "    </tr>\n",
              "  </thead>\n",
              "  <tbody>\n",
              "    <tr>\n",
              "      <th>Dr. No</th>\n",
              "      <td>False</td>\n",
              "      <td>False</td>\n",
              "      <td>False</td>\n",
              "      <td>False</td>\n",
              "      <td>False</td>\n",
              "      <td>False</td>\n",
              "    </tr>\n",
              "    <tr>\n",
              "      <th>From Russia with Love</th>\n",
              "      <td>False</td>\n",
              "      <td>False</td>\n",
              "      <td>False</td>\n",
              "      <td>False</td>\n",
              "      <td>False</td>\n",
              "      <td>False</td>\n",
              "    </tr>\n",
              "    <tr>\n",
              "      <th>Goldfinger</th>\n",
              "      <td>False</td>\n",
              "      <td>False</td>\n",
              "      <td>False</td>\n",
              "      <td>False</td>\n",
              "      <td>False</td>\n",
              "      <td>False</td>\n",
              "    </tr>\n",
              "    <tr>\n",
              "      <th>Thunderball</th>\n",
              "      <td>False</td>\n",
              "      <td>False</td>\n",
              "      <td>False</td>\n",
              "      <td>False</td>\n",
              "      <td>False</td>\n",
              "      <td>False</td>\n",
              "    </tr>\n",
              "    <tr>\n",
              "      <th>Casino Royale</th>\n",
              "      <td>False</td>\n",
              "      <td>False</td>\n",
              "      <td>False</td>\n",
              "      <td>False</td>\n",
              "      <td>False</td>\n",
              "      <td>True</td>\n",
              "    </tr>\n",
              "    <tr>\n",
              "      <th>You Only Live Twice</th>\n",
              "      <td>False</td>\n",
              "      <td>False</td>\n",
              "      <td>False</td>\n",
              "      <td>False</td>\n",
              "      <td>False</td>\n",
              "      <td>False</td>\n",
              "    </tr>\n",
              "    <tr>\n",
              "      <th>On Her Majesty's Secret Service</th>\n",
              "      <td>False</td>\n",
              "      <td>False</td>\n",
              "      <td>False</td>\n",
              "      <td>False</td>\n",
              "      <td>False</td>\n",
              "      <td>False</td>\n",
              "    </tr>\n",
              "    <tr>\n",
              "      <th>Diamonds Are Forever</th>\n",
              "      <td>False</td>\n",
              "      <td>False</td>\n",
              "      <td>False</td>\n",
              "      <td>False</td>\n",
              "      <td>False</td>\n",
              "      <td>False</td>\n",
              "    </tr>\n",
              "    <tr>\n",
              "      <th>Live and Let Die</th>\n",
              "      <td>False</td>\n",
              "      <td>False</td>\n",
              "      <td>False</td>\n",
              "      <td>False</td>\n",
              "      <td>False</td>\n",
              "      <td>True</td>\n",
              "    </tr>\n",
              "    <tr>\n",
              "      <th>The Man with the Golden Gun</th>\n",
              "      <td>False</td>\n",
              "      <td>False</td>\n",
              "      <td>False</td>\n",
              "      <td>False</td>\n",
              "      <td>False</td>\n",
              "      <td>True</td>\n",
              "    </tr>\n",
              "    <tr>\n",
              "      <th>The Spy Who Loved Me</th>\n",
              "      <td>False</td>\n",
              "      <td>False</td>\n",
              "      <td>False</td>\n",
              "      <td>False</td>\n",
              "      <td>False</td>\n",
              "      <td>True</td>\n",
              "    </tr>\n",
              "    <tr>\n",
              "      <th>Moonraker</th>\n",
              "      <td>False</td>\n",
              "      <td>False</td>\n",
              "      <td>False</td>\n",
              "      <td>False</td>\n",
              "      <td>False</td>\n",
              "      <td>True</td>\n",
              "    </tr>\n",
              "    <tr>\n",
              "      <th>For Your Eyes Only</th>\n",
              "      <td>False</td>\n",
              "      <td>False</td>\n",
              "      <td>False</td>\n",
              "      <td>False</td>\n",
              "      <td>False</td>\n",
              "      <td>True</td>\n",
              "    </tr>\n",
              "    <tr>\n",
              "      <th>Never Say Never Again</th>\n",
              "      <td>False</td>\n",
              "      <td>False</td>\n",
              "      <td>False</td>\n",
              "      <td>False</td>\n",
              "      <td>False</td>\n",
              "      <td>True</td>\n",
              "    </tr>\n",
              "    <tr>\n",
              "      <th>Octopussy</th>\n",
              "      <td>False</td>\n",
              "      <td>False</td>\n",
              "      <td>False</td>\n",
              "      <td>False</td>\n",
              "      <td>False</td>\n",
              "      <td>False</td>\n",
              "    </tr>\n",
              "    <tr>\n",
              "      <th>A View to a Kill</th>\n",
              "      <td>False</td>\n",
              "      <td>False</td>\n",
              "      <td>False</td>\n",
              "      <td>False</td>\n",
              "      <td>False</td>\n",
              "      <td>False</td>\n",
              "    </tr>\n",
              "    <tr>\n",
              "      <th>The Living Daylights</th>\n",
              "      <td>False</td>\n",
              "      <td>False</td>\n",
              "      <td>False</td>\n",
              "      <td>False</td>\n",
              "      <td>False</td>\n",
              "      <td>False</td>\n",
              "    </tr>\n",
              "    <tr>\n",
              "      <th>Licence to Kill</th>\n",
              "      <td>False</td>\n",
              "      <td>False</td>\n",
              "      <td>False</td>\n",
              "      <td>False</td>\n",
              "      <td>False</td>\n",
              "      <td>False</td>\n",
              "    </tr>\n",
              "    <tr>\n",
              "      <th>GoldenEye</th>\n",
              "      <td>False</td>\n",
              "      <td>False</td>\n",
              "      <td>False</td>\n",
              "      <td>False</td>\n",
              "      <td>False</td>\n",
              "      <td>False</td>\n",
              "    </tr>\n",
              "    <tr>\n",
              "      <th>Tomorrow Never Dies</th>\n",
              "      <td>False</td>\n",
              "      <td>False</td>\n",
              "      <td>False</td>\n",
              "      <td>False</td>\n",
              "      <td>False</td>\n",
              "      <td>False</td>\n",
              "    </tr>\n",
              "    <tr>\n",
              "      <th>The World Is Not Enough</th>\n",
              "      <td>False</td>\n",
              "      <td>False</td>\n",
              "      <td>False</td>\n",
              "      <td>False</td>\n",
              "      <td>False</td>\n",
              "      <td>False</td>\n",
              "    </tr>\n",
              "    <tr>\n",
              "      <th>Die Another Day</th>\n",
              "      <td>False</td>\n",
              "      <td>False</td>\n",
              "      <td>False</td>\n",
              "      <td>False</td>\n",
              "      <td>False</td>\n",
              "      <td>False</td>\n",
              "    </tr>\n",
              "    <tr>\n",
              "      <th>Casino Royale</th>\n",
              "      <td>False</td>\n",
              "      <td>False</td>\n",
              "      <td>False</td>\n",
              "      <td>False</td>\n",
              "      <td>False</td>\n",
              "      <td>False</td>\n",
              "    </tr>\n",
              "    <tr>\n",
              "      <th>Quantum of Solace</th>\n",
              "      <td>False</td>\n",
              "      <td>False</td>\n",
              "      <td>False</td>\n",
              "      <td>False</td>\n",
              "      <td>False</td>\n",
              "      <td>False</td>\n",
              "    </tr>\n",
              "    <tr>\n",
              "      <th>Skyfall</th>\n",
              "      <td>False</td>\n",
              "      <td>False</td>\n",
              "      <td>False</td>\n",
              "      <td>False</td>\n",
              "      <td>False</td>\n",
              "      <td>False</td>\n",
              "    </tr>\n",
              "    <tr>\n",
              "      <th>Spectre</th>\n",
              "      <td>False</td>\n",
              "      <td>False</td>\n",
              "      <td>False</td>\n",
              "      <td>False</td>\n",
              "      <td>False</td>\n",
              "      <td>True</td>\n",
              "    </tr>\n",
              "  </tbody>\n",
              "</table>\n",
              "</div>"
            ],
            "text/plain": [
              "                                  Year  Actor  ...  Budget  Bond Actor Salary\n",
              "Film                                           ...                           \n",
              "Dr. No                           False  False  ...   False              False\n",
              "From Russia with Love            False  False  ...   False              False\n",
              "Goldfinger                       False  False  ...   False              False\n",
              "Thunderball                      False  False  ...   False              False\n",
              "Casino Royale                    False  False  ...   False               True\n",
              "You Only Live Twice              False  False  ...   False              False\n",
              "On Her Majesty's Secret Service  False  False  ...   False              False\n",
              "Diamonds Are Forever             False  False  ...   False              False\n",
              "Live and Let Die                 False  False  ...   False               True\n",
              "The Man with the Golden Gun      False  False  ...   False               True\n",
              "The Spy Who Loved Me             False  False  ...   False               True\n",
              "Moonraker                        False  False  ...   False               True\n",
              "For Your Eyes Only               False  False  ...   False               True\n",
              "Never Say Never Again            False  False  ...   False               True\n",
              "Octopussy                        False  False  ...   False              False\n",
              "A View to a Kill                 False  False  ...   False              False\n",
              "The Living Daylights             False  False  ...   False              False\n",
              "Licence to Kill                  False  False  ...   False              False\n",
              "GoldenEye                        False  False  ...   False              False\n",
              "Tomorrow Never Dies              False  False  ...   False              False\n",
              "The World Is Not Enough          False  False  ...   False              False\n",
              "Die Another Day                  False  False  ...   False              False\n",
              "Casino Royale                    False  False  ...   False              False\n",
              "Quantum of Solace                False  False  ...   False              False\n",
              "Skyfall                          False  False  ...   False              False\n",
              "Spectre                          False  False  ...   False               True\n",
              "\n",
              "[26 rows x 6 columns]"
            ]
          },
          "metadata": {},
          "execution_count": 8
        }
      ]
    },
    {
      "cell_type": "code",
      "metadata": {
        "colab": {
          "base_uri": "https://localhost:8080/"
        },
        "id": "jq9Nf1NiCm8w",
        "outputId": "b0fb1127-4eed-4450-e326-7da321db4d4b"
      },
      "source": [
        "# step 2: testing if at least one value on each column is True (NA)\n",
        "df_jamesbond.isna().any() \n",
        "# as result, we understand that there are at least one null observation on field \"Bond Actor Salary\""
      ],
      "execution_count": null,
      "outputs": [
        {
          "output_type": "execute_result",
          "data": {
            "text/plain": [
              "Year                 False\n",
              "Actor                False\n",
              "Director             False\n",
              "Box Office           False\n",
              "Budget               False\n",
              "Bond Actor Salary     True\n",
              "dtype: bool"
            ]
          },
          "metadata": {},
          "execution_count": 9
        }
      ]
    },
    {
      "cell_type": "markdown",
      "metadata": {
        "id": "nJF-N6xhEC7_"
      },
      "source": [
        "### Operate null values in a dataFrame\n",
        "\n",
        "Once we identify null values, we can decide either to:\n",
        "*   *remove full rows with at least one missing value*; or \n",
        "*   *fill null values* \n",
        "\n",
        "\n",
        "\n",
        "\n"
      ]
    },
    {
      "cell_type": "code",
      "metadata": {
        "id": "5w2AIbjLJ__P",
        "colab": {
          "base_uri": "https://localhost:8080/",
          "height": 903
        },
        "outputId": "fcb6f8c0-f840-4952-ac62-4c42efecb351"
      },
      "source": [
        "# we identified NA values in column \"Bond Actor Salary\", we will now proceed to omit those rows\n",
        "cond = df_jamesbond[\"Bond Actor Salary\"].isnull()\n",
        "df_jamesbond[-cond] # we negate condition to omit those rows that are NA for column \"Bond Actor Salary\""
      ],
      "execution_count": null,
      "outputs": [
        {
          "output_type": "execute_result",
          "data": {
            "text/html": [
              "<div>\n",
              "<style scoped>\n",
              "    .dataframe tbody tr th:only-of-type {\n",
              "        vertical-align: middle;\n",
              "    }\n",
              "\n",
              "    .dataframe tbody tr th {\n",
              "        vertical-align: top;\n",
              "    }\n",
              "\n",
              "    .dataframe thead th {\n",
              "        text-align: right;\n",
              "    }\n",
              "</style>\n",
              "<table border=\"1\" class=\"dataframe\">\n",
              "  <thead>\n",
              "    <tr style=\"text-align: right;\">\n",
              "      <th></th>\n",
              "      <th>Year</th>\n",
              "      <th>Actor</th>\n",
              "      <th>Director</th>\n",
              "      <th>Box Office</th>\n",
              "      <th>Budget</th>\n",
              "      <th>Bond Actor Salary</th>\n",
              "    </tr>\n",
              "    <tr>\n",
              "      <th>Film</th>\n",
              "      <th></th>\n",
              "      <th></th>\n",
              "      <th></th>\n",
              "      <th></th>\n",
              "      <th></th>\n",
              "      <th></th>\n",
              "    </tr>\n",
              "  </thead>\n",
              "  <tbody>\n",
              "    <tr>\n",
              "      <th>Dr. No</th>\n",
              "      <td>1962</td>\n",
              "      <td>Sean Connery</td>\n",
              "      <td>Terence Young</td>\n",
              "      <td>448.8</td>\n",
              "      <td>7.0</td>\n",
              "      <td>0.6</td>\n",
              "    </tr>\n",
              "    <tr>\n",
              "      <th>From Russia with Love</th>\n",
              "      <td>1963</td>\n",
              "      <td>Sean Connery</td>\n",
              "      <td>Terence Young</td>\n",
              "      <td>543.8</td>\n",
              "      <td>12.6</td>\n",
              "      <td>1.6</td>\n",
              "    </tr>\n",
              "    <tr>\n",
              "      <th>Goldfinger</th>\n",
              "      <td>1964</td>\n",
              "      <td>Sean Connery</td>\n",
              "      <td>Guy Hamilton</td>\n",
              "      <td>820.4</td>\n",
              "      <td>18.6</td>\n",
              "      <td>3.2</td>\n",
              "    </tr>\n",
              "    <tr>\n",
              "      <th>Thunderball</th>\n",
              "      <td>1965</td>\n",
              "      <td>Sean Connery</td>\n",
              "      <td>Terence Young</td>\n",
              "      <td>848.1</td>\n",
              "      <td>41.9</td>\n",
              "      <td>4.7</td>\n",
              "    </tr>\n",
              "    <tr>\n",
              "      <th>You Only Live Twice</th>\n",
              "      <td>1967</td>\n",
              "      <td>Sean Connery</td>\n",
              "      <td>Lewis Gilbert</td>\n",
              "      <td>514.2</td>\n",
              "      <td>59.9</td>\n",
              "      <td>4.4</td>\n",
              "    </tr>\n",
              "    <tr>\n",
              "      <th>On Her Majesty's Secret Service</th>\n",
              "      <td>1969</td>\n",
              "      <td>George Lazenby</td>\n",
              "      <td>Peter R. Hunt</td>\n",
              "      <td>291.5</td>\n",
              "      <td>37.3</td>\n",
              "      <td>0.6</td>\n",
              "    </tr>\n",
              "    <tr>\n",
              "      <th>Diamonds Are Forever</th>\n",
              "      <td>1971</td>\n",
              "      <td>Sean Connery</td>\n",
              "      <td>Guy Hamilton</td>\n",
              "      <td>442.5</td>\n",
              "      <td>34.7</td>\n",
              "      <td>5.8</td>\n",
              "    </tr>\n",
              "    <tr>\n",
              "      <th>Octopussy</th>\n",
              "      <td>1983</td>\n",
              "      <td>Roger Moore</td>\n",
              "      <td>John Glen</td>\n",
              "      <td>373.8</td>\n",
              "      <td>53.9</td>\n",
              "      <td>7.8</td>\n",
              "    </tr>\n",
              "    <tr>\n",
              "      <th>A View to a Kill</th>\n",
              "      <td>1985</td>\n",
              "      <td>Roger Moore</td>\n",
              "      <td>John Glen</td>\n",
              "      <td>275.2</td>\n",
              "      <td>54.5</td>\n",
              "      <td>9.1</td>\n",
              "    </tr>\n",
              "    <tr>\n",
              "      <th>The Living Daylights</th>\n",
              "      <td>1987</td>\n",
              "      <td>Timothy Dalton</td>\n",
              "      <td>John Glen</td>\n",
              "      <td>313.5</td>\n",
              "      <td>68.8</td>\n",
              "      <td>5.2</td>\n",
              "    </tr>\n",
              "    <tr>\n",
              "      <th>Licence to Kill</th>\n",
              "      <td>1989</td>\n",
              "      <td>Timothy Dalton</td>\n",
              "      <td>John Glen</td>\n",
              "      <td>250.9</td>\n",
              "      <td>56.7</td>\n",
              "      <td>7.9</td>\n",
              "    </tr>\n",
              "    <tr>\n",
              "      <th>GoldenEye</th>\n",
              "      <td>1995</td>\n",
              "      <td>Pierce Brosnan</td>\n",
              "      <td>Martin Campbell</td>\n",
              "      <td>518.5</td>\n",
              "      <td>76.9</td>\n",
              "      <td>5.1</td>\n",
              "    </tr>\n",
              "    <tr>\n",
              "      <th>Tomorrow Never Dies</th>\n",
              "      <td>1997</td>\n",
              "      <td>Pierce Brosnan</td>\n",
              "      <td>Roger Spottiswoode</td>\n",
              "      <td>463.2</td>\n",
              "      <td>133.9</td>\n",
              "      <td>10.0</td>\n",
              "    </tr>\n",
              "    <tr>\n",
              "      <th>The World Is Not Enough</th>\n",
              "      <td>1999</td>\n",
              "      <td>Pierce Brosnan</td>\n",
              "      <td>Michael Apted</td>\n",
              "      <td>439.5</td>\n",
              "      <td>158.3</td>\n",
              "      <td>13.5</td>\n",
              "    </tr>\n",
              "    <tr>\n",
              "      <th>Die Another Day</th>\n",
              "      <td>2002</td>\n",
              "      <td>Pierce Brosnan</td>\n",
              "      <td>Lee Tamahori</td>\n",
              "      <td>465.4</td>\n",
              "      <td>154.2</td>\n",
              "      <td>17.9</td>\n",
              "    </tr>\n",
              "    <tr>\n",
              "      <th>Casino Royale</th>\n",
              "      <td>2006</td>\n",
              "      <td>Daniel Craig</td>\n",
              "      <td>Martin Campbell</td>\n",
              "      <td>581.5</td>\n",
              "      <td>145.3</td>\n",
              "      <td>3.3</td>\n",
              "    </tr>\n",
              "    <tr>\n",
              "      <th>Quantum of Solace</th>\n",
              "      <td>2008</td>\n",
              "      <td>Daniel Craig</td>\n",
              "      <td>Marc Forster</td>\n",
              "      <td>514.2</td>\n",
              "      <td>181.4</td>\n",
              "      <td>8.1</td>\n",
              "    </tr>\n",
              "    <tr>\n",
              "      <th>Skyfall</th>\n",
              "      <td>2012</td>\n",
              "      <td>Daniel Craig</td>\n",
              "      <td>Sam Mendes</td>\n",
              "      <td>943.5</td>\n",
              "      <td>170.2</td>\n",
              "      <td>14.5</td>\n",
              "    </tr>\n",
              "  </tbody>\n",
              "</table>\n",
              "</div>"
            ],
            "text/plain": [
              "                                 Year  ... Bond Actor Salary\n",
              "Film                                   ...                  \n",
              "Dr. No                           1962  ...               0.6\n",
              "From Russia with Love            1963  ...               1.6\n",
              "Goldfinger                       1964  ...               3.2\n",
              "Thunderball                      1965  ...               4.7\n",
              "You Only Live Twice              1967  ...               4.4\n",
              "On Her Majesty's Secret Service  1969  ...               0.6\n",
              "Diamonds Are Forever             1971  ...               5.8\n",
              "Octopussy                        1983  ...               7.8\n",
              "A View to a Kill                 1985  ...               9.1\n",
              "The Living Daylights             1987  ...               5.2\n",
              "Licence to Kill                  1989  ...               7.9\n",
              "GoldenEye                        1995  ...               5.1\n",
              "Tomorrow Never Dies              1997  ...              10.0\n",
              "The World Is Not Enough          1999  ...              13.5\n",
              "Die Another Day                  2002  ...              17.9\n",
              "Casino Royale                    2006  ...               3.3\n",
              "Quantum of Solace                2008  ...               8.1\n",
              "Skyfall                          2012  ...              14.5\n",
              "\n",
              "[18 rows x 6 columns]"
            ]
          },
          "metadata": {
            "tags": []
          },
          "execution_count": 46
        }
      ]
    },
    {
      "cell_type": "code",
      "metadata": {
        "id": "rlOzIUezCx2P"
      },
      "source": [
        "# alternatively, we can opt to fill NAs\n",
        "# we will proceed to fill NAs with the mean value for the variable\n",
        "median_bond_salary = df_jamesbond[\"Bond Actor Salary\"].mean() # we calculate the mean\n",
        "df_jamesbond[\"Bond Actor Salary\"]=df_jamesbond[\"Bond Actor Salary\"].fillna(median_bond_salary) # we replace null values\n",
        "\n",
        "# Note: in some other cases, we might just want to replace null values by 0 -> .fillna(0)"
      ],
      "execution_count": null,
      "outputs": []
    },
    {
      "cell_type": "markdown",
      "metadata": {
        "id": "Z0CHb5QkBvP_"
      },
      "source": [
        "# 2. Handling duplicated values\n",
        "---"
      ]
    },
    {
      "cell_type": "code",
      "metadata": {
        "id": "EYW7X5sUJO6a"
      },
      "source": [
        "# Import dataframe\n",
        "df_duplicates = pd.read_csv(\"https://data-wizards.s3.amazonaws.com/datasets/renfe_estaciones_duplicates.csv\")"
      ],
      "execution_count": null,
      "outputs": []
    },
    {
      "cell_type": "markdown",
      "metadata": {
        "id": "Yxd8kJwl_ziY"
      },
      "source": [
        "### Identify duplicated values\n",
        "\n",
        "Key functions in this section,\n",
        "```\n",
        "object.duplicated()\n",
        "```\n",
        "> The `duplicated()` method test if a row is an exact duplicate\n",
        "\n"
      ]
    },
    {
      "cell_type": "code",
      "metadata": {
        "colab": {
          "base_uri": "https://localhost:8080/"
        },
        "id": "RTjhBsgA-oXj",
        "outputId": "cd78351b-8182-4ed8-f6cb-66fe0754106d"
      },
      "source": [
        "len(df_duplicates) # check number of rows"
      ],
      "execution_count": null,
      "outputs": [
        {
          "output_type": "execute_result",
          "data": {
            "text/plain": [
              "630"
            ]
          },
          "metadata": {
            "tags": []
          },
          "execution_count": 49
        }
      ]
    },
    {
      "cell_type": "code",
      "metadata": {
        "colab": {
          "base_uri": "https://localhost:8080/",
          "height": 780
        },
        "id": "R6Cv2FdY_OQ-",
        "outputId": "c5e89be8-9526-4d23-cc8a-992412442ff3"
      },
      "source": [
        "# identify duplicated rows\n",
        "cond = df_duplicates.duplicated()\n",
        "df_duplicates[cond]"
      ],
      "execution_count": null,
      "outputs": [
        {
          "output_type": "execute_result",
          "data": {
            "text/html": [
              "<div>\n",
              "<style scoped>\n",
              "    .dataframe tbody tr th:only-of-type {\n",
              "        vertical-align: middle;\n",
              "    }\n",
              "\n",
              "    .dataframe tbody tr th {\n",
              "        vertical-align: top;\n",
              "    }\n",
              "\n",
              "    .dataframe thead th {\n",
              "        text-align: right;\n",
              "    }\n",
              "</style>\n",
              "<table border=\"1\" class=\"dataframe\">\n",
              "  <thead>\n",
              "    <tr style=\"text-align: right;\">\n",
              "      <th></th>\n",
              "      <th>CODIGO</th>\n",
              "      <th>DESCRIPCION</th>\n",
              "      <th>LATITUD</th>\n",
              "      <th>LONGITUD</th>\n",
              "      <th>DIRECCION</th>\n",
              "      <th>C.P.</th>\n",
              "      <th>POBLACION</th>\n",
              "      <th>PROVINCIA</th>\n",
              "      <th>PAIS</th>\n",
              "    </tr>\n",
              "  </thead>\n",
              "  <tbody>\n",
              "    <tr>\n",
              "      <th>16</th>\n",
              "      <td>5000</td>\n",
              "      <td>GRANADA</td>\n",
              "      <td>37.184036</td>\n",
              "      <td>-3.609036</td>\n",
              "      <td>AVENIDA DE LOS ANDALUCES. S/N</td>\n",
              "      <td>18014.0</td>\n",
              "      <td>Granada</td>\n",
              "      <td>Granada</td>\n",
              "      <td>España</td>\n",
              "    </tr>\n",
              "    <tr>\n",
              "      <th>24</th>\n",
              "      <td>10204</td>\n",
              "      <td>ZARZALEJO</td>\n",
              "      <td>40.538817</td>\n",
              "      <td>-4.158073</td>\n",
              "      <td>CALLE DEL FERROCARRIL. S/N</td>\n",
              "      <td>28293.0</td>\n",
              "      <td>Zarzalejo</td>\n",
              "      <td>Madrid</td>\n",
              "      <td>España</td>\n",
              "    </tr>\n",
              "    <tr>\n",
              "      <th>57</th>\n",
              "      <td>11208</td>\n",
              "      <td>VITORIA/GASTEIZ</td>\n",
              "      <td>42.841528</td>\n",
              "      <td>-2.672665</td>\n",
              "      <td>PLAZUELA DE LA ESTACION. 1</td>\n",
              "      <td>1005.0</td>\n",
              "      <td>Vitoria-Gasteiz</td>\n",
              "      <td>Araba/Álava</td>\n",
              "      <td>España</td>\n",
              "    </tr>\n",
              "    <tr>\n",
              "      <th>74</th>\n",
              "      <td>11203</td>\n",
              "      <td>MANZANOS</td>\n",
              "      <td>42.742875</td>\n",
              "      <td>-2.867530</td>\n",
              "      <td>RIO ZADORRA KALEA. S/N</td>\n",
              "      <td>1220.0</td>\n",
              "      <td>Ribera Baja/Erribera Beitia</td>\n",
              "      <td>Araba/Álava</td>\n",
              "      <td>España</td>\n",
              "    </tr>\n",
              "    <tr>\n",
              "      <th>90</th>\n",
              "      <td>15006</td>\n",
              "      <td>CISNEROS</td>\n",
              "      <td>42.191068</td>\n",
              "      <td>-4.850206</td>\n",
              "      <td>CARRETERA P-932 - ESTACION FERROCARRIL. S/N</td>\n",
              "      <td>34320.0</td>\n",
              "      <td>Cisneros</td>\n",
              "      <td>Palencia</td>\n",
              "      <td>España</td>\n",
              "    </tr>\n",
              "    <tr>\n",
              "      <th>181</th>\n",
              "      <td>23004</td>\n",
              "      <td>PONTEVEDRA</td>\n",
              "      <td>42.421640</td>\n",
              "      <td>-8.635830</td>\n",
              "      <td>AVENIDA DE LA ESTACION. S/N</td>\n",
              "      <td>36003.0</td>\n",
              "      <td>Pontevedra</td>\n",
              "      <td>Pontevedra</td>\n",
              "      <td>España</td>\n",
              "    </tr>\n",
              "    <tr>\n",
              "      <th>222</th>\n",
              "      <td>31205</td>\n",
              "      <td>A GUDIÑA</td>\n",
              "      <td>42.060690</td>\n",
              "      <td>-7.132436</td>\n",
              "      <td>CARRETERA N-525 - BEATO SEBASTIAN APARICIO. S/N</td>\n",
              "      <td>32540.0</td>\n",
              "      <td>Gudiña. A</td>\n",
              "      <td>Ourense</td>\n",
              "      <td>España</td>\n",
              "    </tr>\n",
              "    <tr>\n",
              "      <th>227</th>\n",
              "      <td>34005</td>\n",
              "      <td>SAN PEDRO DEL ARROYO</td>\n",
              "      <td>40.803838</td>\n",
              "      <td>-4.871408</td>\n",
              "      <td>CALLE ESTACION FERROCARRIL. S/N</td>\n",
              "      <td>5350.0</td>\n",
              "      <td>San Pedro del Arroyo</td>\n",
              "      <td>Ávila</td>\n",
              "      <td>España</td>\n",
              "    </tr>\n",
              "    <tr>\n",
              "      <th>242</th>\n",
              "      <td>35206</td>\n",
              "      <td>NAVALMORAL DE LA MATA</td>\n",
              "      <td>39.894854</td>\n",
              "      <td>-5.545566</td>\n",
              "      <td>PLAZA ESTACION FERROCARRIL. 1</td>\n",
              "      <td>10300.0</td>\n",
              "      <td>Navalmoral de la Mata</td>\n",
              "      <td>Cáceres</td>\n",
              "      <td>España</td>\n",
              "    </tr>\n",
              "    <tr>\n",
              "      <th>253</th>\n",
              "      <td>37300</td>\n",
              "      <td>PUERTOLLANO</td>\n",
              "      <td>38.691411</td>\n",
              "      <td>-4.111611</td>\n",
              "      <td>CALLE MUELLE. S/N</td>\n",
              "      <td>13500.0</td>\n",
              "      <td>Puertollano</td>\n",
              "      <td>Ciudad Real</td>\n",
              "      <td>España</td>\n",
              "    </tr>\n",
              "  </tbody>\n",
              "</table>\n",
              "</div>"
            ],
            "text/plain": [
              "     CODIGO            DESCRIPCION  ...    PROVINCIA    PAIS\n",
              "16     5000                GRANADA  ...      Granada  España\n",
              "24    10204              ZARZALEJO  ...       Madrid  España\n",
              "57    11208        VITORIA/GASTEIZ  ...  Araba/Álava  España\n",
              "74    11203               MANZANOS  ...  Araba/Álava  España\n",
              "90    15006               CISNEROS  ...     Palencia  España\n",
              "181   23004             PONTEVEDRA  ...   Pontevedra  España\n",
              "222   31205               A GUDIÑA  ...      Ourense  España\n",
              "227   34005   SAN PEDRO DEL ARROYO  ...        Ávila  España\n",
              "242   35206  NAVALMORAL DE LA MATA  ...      Cáceres  España\n",
              "253   37300            PUERTOLLANO  ...  Ciudad Real  España\n",
              "\n",
              "[10 rows x 9 columns]"
            ]
          },
          "metadata": {
            "tags": []
          },
          "execution_count": 50
        }
      ]
    },
    {
      "cell_type": "markdown",
      "metadata": {
        "id": "DECye02wBr-Y"
      },
      "source": [
        "### Remove duplicated values\n",
        "\n",
        "\n",
        "Key functions in this section,\n",
        "```\n",
        "object.drop_duplicates()\n",
        "```\n",
        "> The `drop_duplicates()` method removes duplicated rows"
      ]
    },
    {
      "cell_type": "code",
      "metadata": {
        "id": "sgWTvOHz_c58"
      },
      "source": [
        "df_clean = df_duplicates.drop_duplicates() # we remove duplicates and store the output in a new object"
      ],
      "execution_count": null,
      "outputs": []
    },
    {
      "cell_type": "code",
      "metadata": {
        "colab": {
          "base_uri": "https://localhost:8080/"
        },
        "id": "_nYpC4Ou_nxR",
        "outputId": "abcb9d37-e6d0-48bb-89d2-f55ef292b594"
      },
      "source": [
        "len(df_clean) # we check again number of rows to confirm new number"
      ],
      "execution_count": null,
      "outputs": [
        {
          "output_type": "execute_result",
          "data": {
            "text/plain": [
              "620"
            ]
          },
          "metadata": {
            "tags": []
          },
          "execution_count": 52
        }
      ]
    },
    {
      "cell_type": "markdown",
      "metadata": {
        "id": "CuT7GRFk_E_t"
      },
      "source": [
        "# 3. Identifying outliers\n",
        "---\n"
      ]
    },
    {
      "cell_type": "code",
      "metadata": {
        "id": "gZw0ecGzJ_5H"
      },
      "source": [
        "# import dataframe\n",
        "df_jamesbond = pd.read_csv(\"https://data-wizards.s3.amazonaws.com/datasets/jamesbond.csv\",index_col=\"Film\")"
      ],
      "execution_count": null,
      "outputs": []
    },
    {
      "cell_type": "markdown",
      "metadata": {
        "id": "Zgxb4aOmqgU9"
      },
      "source": [
        "An outlier is a numerical value that differs significantly from the rest of observations. It is important to identify outliers to check for possible data entry errors or simply to explore the dataset to build insight.\n",
        "\n",
        "\n",
        "\n",
        "\n"
      ]
    },
    {
      "cell_type": "markdown",
      "metadata": {
        "id": "U2KEPU3XRL3q"
      },
      "source": [
        "### Using normal distribution (z)\n",
        "\n",
        "There are different methods to identify outliers. For this method, we will assume that the variable is normally distributed. By convention, a value with a z score higher than +3 or lower than -3 would indicate that the value is an outlier.\n",
        "\n",
        "> *Note: a value higher/lower than +/- 3 means that it's +/- standard deviations far from the mean.*\n",
        "\n",
        "Key functions in this section,\n",
        "\n",
        "```\n",
        "stats.zscore(column, nan_policy='omit')\n",
        "```\n",
        "> *The szcore() method normalizes (converts) a numerical variable into Z (normal distribution)*\n",
        "\n",
        "\n",
        "\n",
        "\n"
      ]
    },
    {
      "cell_type": "code",
      "metadata": {
        "id": "WCGTGpL7pZy2"
      },
      "source": [
        "# We normalize variable Box Office to check outliers\n",
        "df_jamesbond[\"z_Box Office\"] = stats.zscore(df_jamesbond[\"Box Office\"],nan_policy='omit').round(2)"
      ],
      "execution_count": null,
      "outputs": []
    },
    {
      "cell_type": "code",
      "metadata": {
        "colab": {
          "base_uri": "https://localhost:8080/",
          "height": 881
        },
        "id": "ToC8YXo4J-Fz",
        "outputId": "f0995c83-25f9-4558-a678-74cc1033706a"
      },
      "source": [
        "# We select variable and its normalized version and sort\n",
        "df_jamesbond[[\"Box Office\",\"z_Box Office\"]].sort_values(\"z_Box Office\",ascending=False)\n",
        "# Note: we do not find any outliers, as there are not Z score values higher than 3 or lower than -3"
      ],
      "execution_count": null,
      "outputs": [
        {
          "output_type": "execute_result",
          "data": {
            "text/html": [
              "<div>\n",
              "<style scoped>\n",
              "    .dataframe tbody tr th:only-of-type {\n",
              "        vertical-align: middle;\n",
              "    }\n",
              "\n",
              "    .dataframe tbody tr th {\n",
              "        vertical-align: top;\n",
              "    }\n",
              "\n",
              "    .dataframe thead th {\n",
              "        text-align: right;\n",
              "    }\n",
              "</style>\n",
              "<table border=\"1\" class=\"dataframe\">\n",
              "  <thead>\n",
              "    <tr style=\"text-align: right;\">\n",
              "      <th></th>\n",
              "      <th>Box Office</th>\n",
              "      <th>z_Box Office</th>\n",
              "    </tr>\n",
              "    <tr>\n",
              "      <th>Film</th>\n",
              "      <th></th>\n",
              "      <th></th>\n",
              "    </tr>\n",
              "  </thead>\n",
              "  <tbody>\n",
              "    <tr>\n",
              "      <th>Skyfall</th>\n",
              "      <td>943.5</td>\n",
              "      <td>2.61</td>\n",
              "    </tr>\n",
              "    <tr>\n",
              "      <th>Thunderball</th>\n",
              "      <td>848.1</td>\n",
              "      <td>2.06</td>\n",
              "    </tr>\n",
              "    <tr>\n",
              "      <th>Goldfinger</th>\n",
              "      <td>820.4</td>\n",
              "      <td>1.90</td>\n",
              "    </tr>\n",
              "    <tr>\n",
              "      <th>Spectre</th>\n",
              "      <td>726.7</td>\n",
              "      <td>1.36</td>\n",
              "    </tr>\n",
              "    <tr>\n",
              "      <th>Casino Royale</th>\n",
              "      <td>581.5</td>\n",
              "      <td>0.52</td>\n",
              "    </tr>\n",
              "    <tr>\n",
              "      <th>From Russia with Love</th>\n",
              "      <td>543.8</td>\n",
              "      <td>0.30</td>\n",
              "    </tr>\n",
              "    <tr>\n",
              "      <th>Moonraker</th>\n",
              "      <td>535.0</td>\n",
              "      <td>0.25</td>\n",
              "    </tr>\n",
              "    <tr>\n",
              "      <th>The Spy Who Loved Me</th>\n",
              "      <td>533.0</td>\n",
              "      <td>0.24</td>\n",
              "    </tr>\n",
              "    <tr>\n",
              "      <th>GoldenEye</th>\n",
              "      <td>518.5</td>\n",
              "      <td>0.16</td>\n",
              "    </tr>\n",
              "    <tr>\n",
              "      <th>You Only Live Twice</th>\n",
              "      <td>514.2</td>\n",
              "      <td>0.13</td>\n",
              "    </tr>\n",
              "    <tr>\n",
              "      <th>Quantum of Solace</th>\n",
              "      <td>514.2</td>\n",
              "      <td>0.13</td>\n",
              "    </tr>\n",
              "    <tr>\n",
              "      <th>Die Another Day</th>\n",
              "      <td>465.4</td>\n",
              "      <td>-0.15</td>\n",
              "    </tr>\n",
              "    <tr>\n",
              "      <th>Tomorrow Never Dies</th>\n",
              "      <td>463.2</td>\n",
              "      <td>-0.16</td>\n",
              "    </tr>\n",
              "    <tr>\n",
              "      <th>Live and Let Die</th>\n",
              "      <td>460.3</td>\n",
              "      <td>-0.18</td>\n",
              "    </tr>\n",
              "    <tr>\n",
              "      <th>For Your Eyes Only</th>\n",
              "      <td>449.4</td>\n",
              "      <td>-0.24</td>\n",
              "    </tr>\n",
              "    <tr>\n",
              "      <th>Dr. No</th>\n",
              "      <td>448.8</td>\n",
              "      <td>-0.25</td>\n",
              "    </tr>\n",
              "    <tr>\n",
              "      <th>Diamonds Are Forever</th>\n",
              "      <td>442.5</td>\n",
              "      <td>-0.28</td>\n",
              "    </tr>\n",
              "    <tr>\n",
              "      <th>The World Is Not Enough</th>\n",
              "      <td>439.5</td>\n",
              "      <td>-0.30</td>\n",
              "    </tr>\n",
              "    <tr>\n",
              "      <th>Never Say Never Again</th>\n",
              "      <td>380.0</td>\n",
              "      <td>-0.64</td>\n",
              "    </tr>\n",
              "    <tr>\n",
              "      <th>Octopussy</th>\n",
              "      <td>373.8</td>\n",
              "      <td>-0.68</td>\n",
              "    </tr>\n",
              "    <tr>\n",
              "      <th>The Man with the Golden Gun</th>\n",
              "      <td>334.0</td>\n",
              "      <td>-0.91</td>\n",
              "    </tr>\n",
              "    <tr>\n",
              "      <th>Casino Royale</th>\n",
              "      <td>315.0</td>\n",
              "      <td>-1.02</td>\n",
              "    </tr>\n",
              "    <tr>\n",
              "      <th>The Living Daylights</th>\n",
              "      <td>313.5</td>\n",
              "      <td>-1.03</td>\n",
              "    </tr>\n",
              "    <tr>\n",
              "      <th>On Her Majesty's Secret Service</th>\n",
              "      <td>291.5</td>\n",
              "      <td>-1.15</td>\n",
              "    </tr>\n",
              "    <tr>\n",
              "      <th>A View to a Kill</th>\n",
              "      <td>275.2</td>\n",
              "      <td>-1.25</td>\n",
              "    </tr>\n",
              "    <tr>\n",
              "      <th>Licence to Kill</th>\n",
              "      <td>250.9</td>\n",
              "      <td>-1.39</td>\n",
              "    </tr>\n",
              "  </tbody>\n",
              "</table>\n",
              "</div>"
            ],
            "text/plain": [
              "                                 Box Office  z_Box Office\n",
              "Film                                                     \n",
              "Skyfall                               943.5          2.61\n",
              "Thunderball                           848.1          2.06\n",
              "Goldfinger                            820.4          1.90\n",
              "Spectre                               726.7          1.36\n",
              "Casino Royale                         581.5          0.52\n",
              "From Russia with Love                 543.8          0.30\n",
              "Moonraker                             535.0          0.25\n",
              "The Spy Who Loved Me                  533.0          0.24\n",
              "GoldenEye                             518.5          0.16\n",
              "You Only Live Twice                   514.2          0.13\n",
              "Quantum of Solace                     514.2          0.13\n",
              "Die Another Day                       465.4         -0.15\n",
              "Tomorrow Never Dies                   463.2         -0.16\n",
              "Live and Let Die                      460.3         -0.18\n",
              "For Your Eyes Only                    449.4         -0.24\n",
              "Dr. No                                448.8         -0.25\n",
              "Diamonds Are Forever                  442.5         -0.28\n",
              "The World Is Not Enough               439.5         -0.30\n",
              "Never Say Never Again                 380.0         -0.64\n",
              "Octopussy                             373.8         -0.68\n",
              "The Man with the Golden Gun           334.0         -0.91\n",
              "Casino Royale                         315.0         -1.02\n",
              "The Living Daylights                  313.5         -1.03\n",
              "On Her Majesty's Secret Service       291.5         -1.15\n",
              "A View to a Kill                      275.2         -1.25\n",
              "Licence to Kill                       250.9         -1.39"
            ]
          },
          "metadata": {
            "tags": []
          },
          "execution_count": 70
        }
      ]
    },
    {
      "cell_type": "markdown",
      "metadata": {
        "id": "Kvfvf6MFRU5S"
      },
      "source": [
        "### Interquartile range (IQR)\n",
        "\n",
        "The IQR is an alternative method to identify outliers, which does not assume normal distribution. This is particularly useful when operating with datasets with few rows. \n",
        "\n",
        "Accordind to this method, we consider outliers those values that deviates more than *1.5 x IQR*, whereas the IQR is the difference between the first and third quantile.\n",
        "\n"
      ]
    },
    {
      "cell_type": "code",
      "metadata": {
        "colab": {
          "base_uri": "https://localhost:8080/",
          "height": 282
        },
        "id": "moPPouYmSzba",
        "outputId": "4d4e3334-098f-4a14-f832-65d24019f731"
      },
      "source": [
        "# Plotting a boxplot\n",
        "df_jamesbond.boxplot(\n",
        "  column='Box Office',\n",
        "  grid=False \n",
        ")\n",
        "# note: a boxplot automatically identifies outliers using the IQR method"
      ],
      "execution_count": null,
      "outputs": [
        {
          "output_type": "execute_result",
          "data": {
            "text/plain": [
              "<matplotlib.axes._subplots.AxesSubplot at 0x7fbe36f4bf50>"
            ]
          },
          "metadata": {},
          "execution_count": 7
        },
        {
          "output_type": "display_data",
          "data": {
            "image/png": "[encoded data removed]",
            "text/plain": [
              "<Figure size 432x288 with 1 Axes>"
            ]
          },
          "metadata": {
            "needs_background": "light"
          }
        }
      ]
    },
    {
      "cell_type": "code",
      "metadata": {
        "id": "r887FnvrSzeD"
      },
      "source": [
        "# Calculating quantiles\n",
        "dist_min = df_jamesbond[\"Box Office\"].quantile(0)\n",
        "dist_Q1 = df_jamesbond[\"Box Office\"].quantile(0.25)\n",
        "dist_median = df_jamesbond[\"Box Office\"].quantile(0.5)\n",
        "dist_Q3 = df_jamesbond[\"Box Office\"].quantile(0.75)\n",
        "dist_max = df_jamesbond[\"Box Office\"].quantile(1)"
      ],
      "execution_count": null,
      "outputs": []
    },
    {
      "cell_type": "code",
      "metadata": {
        "id": "-H_jd5mtSZC_"
      },
      "source": [
        "# Calculating IQR\n",
        "# visually, the IQR is the \"size of the box\" \n",
        "IQR = (dist_Q3-dist_Q1)"
      ],
      "execution_count": null,
      "outputs": []
    },
    {
      "cell_type": "code",
      "metadata": {
        "id": "Bfn9Qi4QSpEl"
      },
      "source": [
        "# Building a condition to filter for outliers\n",
        "cond = df_jamesbond[\"Box Office\"] > (IQR * 1.5) + dist_Q3"
      ],
      "execution_count": null,
      "outputs": []
    },
    {
      "cell_type": "code",
      "metadata": {
        "colab": {
          "base_uri": "https://localhost:8080/",
          "height": 175
        },
        "id": "Qnud-u9DTt3u",
        "outputId": "7754b41f-9f40-45ec-caec-77d90ba905e0"
      },
      "source": [
        "# Filtering and sorting\n",
        "df_jamesbond[cond].sort_values(\"Box Office\",ascending=False)"
      ],
      "execution_count": null,
      "outputs": [
        {
          "output_type": "execute_result",
          "data": {
            "text/html": [
              "<div>\n",
              "<style scoped>\n",
              "    .dataframe tbody tr th:only-of-type {\n",
              "        vertical-align: middle;\n",
              "    }\n",
              "\n",
              "    .dataframe tbody tr th {\n",
              "        vertical-align: top;\n",
              "    }\n",
              "\n",
              "    .dataframe thead th {\n",
              "        text-align: right;\n",
              "    }\n",
              "</style>\n",
              "<table border=\"1\" class=\"dataframe\">\n",
              "  <thead>\n",
              "    <tr style=\"text-align: right;\">\n",
              "      <th></th>\n",
              "      <th>Year</th>\n",
              "      <th>Actor</th>\n",
              "      <th>Director</th>\n",
              "      <th>Box Office</th>\n",
              "      <th>Budget</th>\n",
              "      <th>Bond Actor Salary</th>\n",
              "    </tr>\n",
              "    <tr>\n",
              "      <th>Film</th>\n",
              "      <th></th>\n",
              "      <th></th>\n",
              "      <th></th>\n",
              "      <th></th>\n",
              "      <th></th>\n",
              "      <th></th>\n",
              "    </tr>\n",
              "  </thead>\n",
              "  <tbody>\n",
              "    <tr>\n",
              "      <th>Skyfall</th>\n",
              "      <td>2012</td>\n",
              "      <td>Daniel Craig</td>\n",
              "      <td>Sam Mendes</td>\n",
              "      <td>943.5</td>\n",
              "      <td>170.2</td>\n",
              "      <td>14.5</td>\n",
              "    </tr>\n",
              "    <tr>\n",
              "      <th>Thunderball</th>\n",
              "      <td>1965</td>\n",
              "      <td>Sean Connery</td>\n",
              "      <td>Terence Young</td>\n",
              "      <td>848.1</td>\n",
              "      <td>41.9</td>\n",
              "      <td>4.7</td>\n",
              "    </tr>\n",
              "    <tr>\n",
              "      <th>Goldfinger</th>\n",
              "      <td>1964</td>\n",
              "      <td>Sean Connery</td>\n",
              "      <td>Guy Hamilton</td>\n",
              "      <td>820.4</td>\n",
              "      <td>18.6</td>\n",
              "      <td>3.2</td>\n",
              "    </tr>\n",
              "  </tbody>\n",
              "</table>\n",
              "</div>"
            ],
            "text/plain": [
              "             Year         Actor  ... Budget  Bond Actor Salary\n",
              "Film                             ...                          \n",
              "Skyfall      2012  Daniel Craig  ...  170.2               14.5\n",
              "Thunderball  1965  Sean Connery  ...   41.9                4.7\n",
              "Goldfinger   1964  Sean Connery  ...   18.6                3.2\n",
              "\n",
              "[3 rows x 6 columns]"
            ]
          },
          "metadata": {},
          "execution_count": 29
        }
      ]
    },
    {
      "cell_type": "markdown",
      "metadata": {
        "id": "PP1Lm4-JS40F"
      },
      "source": [
        "# 4. Cleaning for text mining\n",
        "---\n",
        "\n",
        "We often face situations on which we need to transform data stored on a text field, so that we separate values in multiple columns."
      ]
    },
    {
      "cell_type": "code",
      "metadata": {
        "colab": {
          "base_uri": "https://localhost:8080/"
        },
        "id": "o-107TRdS5JI",
        "outputId": "941a1f5e-3808-4fd4-a7a7-58fb82b83cd5"
      },
      "source": [
        "df_amzn_products = pd.read_csv(\"https://data-wizards.s3.amazonaws.com/datasets/amzn_products.txt\",sep=\"\\t\")\n",
        "df_amzn_products.dtypes"
      ],
      "execution_count": null,
      "outputs": [
        {
          "output_type": "execute_result",
          "data": {
            "text/plain": [
              "asin          object\n",
              "brand         object\n",
              "categories    object\n",
              "dtype: object"
            ]
          },
          "metadata": {},
          "execution_count": 27
        }
      ]
    },
    {
      "cell_type": "code",
      "metadata": {
        "id": "2YEknJ_Ev-jG"
      },
      "source": [
        "df_amzn_products = df_amzn_products.head(10)"
      ],
      "execution_count": null,
      "outputs": []
    },
    {
      "cell_type": "code",
      "metadata": {
        "colab": {
          "base_uri": "https://localhost:8080/",
          "height": 517
        },
        "id": "t5eVegVyS5Lq",
        "outputId": "7102d53b-7b8e-42bc-b202-6c91274e3abd"
      },
      "source": [
        "# using the .str.split() method to expand values in multiple columns\n",
        "df_amzn_products.categories.str.split(pat=\",\",expand=True,n=3)"
      ],
      "execution_count": null,
      "outputs": [
        {
          "output_type": "execute_result",
          "data": {
            "text/html": [
              "<div>\n",
              "<style scoped>\n",
              "    .dataframe tbody tr th:only-of-type {\n",
              "        vertical-align: middle;\n",
              "    }\n",
              "\n",
              "    .dataframe tbody tr th {\n",
              "        vertical-align: top;\n",
              "    }\n",
              "\n",
              "    .dataframe thead th {\n",
              "        text-align: right;\n",
              "    }\n",
              "</style>\n",
              "<table border=\"1\" class=\"dataframe\">\n",
              "  <thead>\n",
              "    <tr style=\"text-align: right;\">\n",
              "      <th></th>\n",
              "      <th>0</th>\n",
              "      <th>1</th>\n",
              "      <th>2</th>\n",
              "      <th>3</th>\n",
              "    </tr>\n",
              "  </thead>\n",
              "  <tbody>\n",
              "    <tr>\n",
              "      <th>0</th>\n",
              "      <td>Electronics</td>\n",
              "      <td>Computers</td>\n",
              "      <td>Computer Accessories</td>\n",
              "      <td>Keyboards, Mice &amp; Joysticks,Keyboards,All Keyb...</td>\n",
              "    </tr>\n",
              "    <tr>\n",
              "      <th>1</th>\n",
              "      <td>Electronics</td>\n",
              "      <td>Portable Audio &amp; Video</td>\n",
              "      <td>Home Audio &amp; Theater</td>\n",
              "      <td>Home Audio,All Home Speakers,Speaker Systems,C...</td>\n",
              "    </tr>\n",
              "    <tr>\n",
              "      <th>2</th>\n",
              "      <td>Audio &amp; Video Accessories</td>\n",
              "      <td>TV Mounts</td>\n",
              "      <td>TV Accessories &amp; Parts</td>\n",
              "      <td>Electronics,A/V Presentation,Accessories &amp; Sup...</td>\n",
              "    </tr>\n",
              "    <tr>\n",
              "      <th>3</th>\n",
              "      <td>Portable Bluetooth Speakers</td>\n",
              "      <td>Bluetooth &amp; Wireless Speakers</td>\n",
              "      <td>Portable Audio &amp; Video</td>\n",
              "      <td>Electronics,Portable Speakers &amp; Docks,Audio,Al...</td>\n",
              "    </tr>\n",
              "    <tr>\n",
              "      <th>4</th>\n",
              "      <td>Photography</td>\n",
              "      <td>Photography Bags Cases</td>\n",
              "      <td>Camera Bags</td>\n",
              "      <td>Backpacks,Backpacks ffvzrevebzuqvcddwzzxeuwva,...</td>\n",
              "    </tr>\n",
              "    <tr>\n",
              "      <th>5</th>\n",
              "      <td>Computers</td>\n",
              "      <td>Memory (RAM)</td>\n",
              "      <td>Computers &amp; Accessories</td>\n",
              "      <td>Computer Components,Memory,Memory Upgrades,Ele...</td>\n",
              "    </tr>\n",
              "    <tr>\n",
              "      <th>6</th>\n",
              "      <td>Portable Bluetooth Speakers</td>\n",
              "      <td>Stereos</td>\n",
              "      <td>Computers</td>\n",
              "      <td>Bluetooth &amp; Wireless Speakers,Computer Accesso...</td>\n",
              "    </tr>\n",
              "    <tr>\n",
              "      <th>7</th>\n",
              "      <td>Computers</td>\n",
              "      <td>Networking</td>\n",
              "      <td>Home Networking &amp; Connectivity</td>\n",
              "      <td>Electronics,See more Novatel Jetpack MiFi 6620...</td>\n",
              "    </tr>\n",
              "    <tr>\n",
              "      <th>8</th>\n",
              "      <td>Electronics</td>\n",
              "      <td>Portable Audio</td>\n",
              "      <td>Auto &amp; Tires</td>\n",
              "      <td>Auto Electronics,Car Receivers,All In-Dash Ste...</td>\n",
              "    </tr>\n",
              "    <tr>\n",
              "      <th>9</th>\n",
              "      <td>Electronics</td>\n",
              "      <td>Car &amp; Vehicle Electronics</td>\n",
              "      <td>Car Electronics</td>\n",
              "      <td>Car Audio,Speakers,Coaxial Speakers,Car Electr...</td>\n",
              "    </tr>\n",
              "  </tbody>\n",
              "</table>\n",
              "</div>"
            ],
            "text/plain": [
              "                             0  ...                                                  3\n",
              "0                  Electronics  ...  Keyboards, Mice & Joysticks,Keyboards,All Keyb...\n",
              "1                  Electronics  ...  Home Audio,All Home Speakers,Speaker Systems,C...\n",
              "2    Audio & Video Accessories  ...  Electronics,A/V Presentation,Accessories & Sup...\n",
              "3  Portable Bluetooth Speakers  ...  Electronics,Portable Speakers & Docks,Audio,Al...\n",
              "4                  Photography  ...  Backpacks,Backpacks ffvzrevebzuqvcddwzzxeuwva,...\n",
              "5                    Computers  ...  Computer Components,Memory,Memory Upgrades,Ele...\n",
              "6  Portable Bluetooth Speakers  ...  Bluetooth & Wireless Speakers,Computer Accesso...\n",
              "7                    Computers  ...  Electronics,See more Novatel Jetpack MiFi 6620...\n",
              "8                  Electronics  ...  Auto Electronics,Car Receivers,All In-Dash Ste...\n",
              "9                  Electronics  ...  Car Audio,Speakers,Coaxial Speakers,Car Electr...\n",
              "\n",
              "[10 rows x 4 columns]"
            ]
          },
          "metadata": {},
          "execution_count": 29
        }
      ]
    },
    {
      "cell_type": "code",
      "metadata": {
        "colab": {
          "base_uri": "https://localhost:8080/",
          "height": 362
        },
        "id": "iV-6_nb1yTQ3",
        "outputId": "26973860-7ca7-4a23-ee90-b179059adcb0"
      },
      "source": [
        "# filtering and renaming columns\n",
        "df_amzn_products.categories.str.split(pat=\",\",expand=True,n=3)\\\n",
        "  .iloc[:,0:3]\\\n",
        "  .rename({0:\"prod_cat_1\",1:\"prod_cat_2\",2:\"prod_cat_3\"},axis='columns')"
      ],
      "execution_count": null,
      "outputs": [
        {
          "output_type": "execute_result",
          "data": {
            "text/html": [
              "<div>\n",
              "<style scoped>\n",
              "    .dataframe tbody tr th:only-of-type {\n",
              "        vertical-align: middle;\n",
              "    }\n",
              "\n",
              "    .dataframe tbody tr th {\n",
              "        vertical-align: top;\n",
              "    }\n",
              "\n",
              "    .dataframe thead th {\n",
              "        text-align: right;\n",
              "    }\n",
              "</style>\n",
              "<table border=\"1\" class=\"dataframe\">\n",
              "  <thead>\n",
              "    <tr style=\"text-align: right;\">\n",
              "      <th></th>\n",
              "      <th>prod_cat_1</th>\n",
              "      <th>prod_cat_2</th>\n",
              "      <th>prod_cat_3</th>\n",
              "    </tr>\n",
              "  </thead>\n",
              "  <tbody>\n",
              "    <tr>\n",
              "      <th>0</th>\n",
              "      <td>Electronics</td>\n",
              "      <td>Computers</td>\n",
              "      <td>Computer Accessories</td>\n",
              "    </tr>\n",
              "    <tr>\n",
              "      <th>1</th>\n",
              "      <td>Electronics</td>\n",
              "      <td>Portable Audio &amp; Video</td>\n",
              "      <td>Home Audio &amp; Theater</td>\n",
              "    </tr>\n",
              "    <tr>\n",
              "      <th>2</th>\n",
              "      <td>Audio &amp; Video Accessories</td>\n",
              "      <td>TV Mounts</td>\n",
              "      <td>TV Accessories &amp; Parts</td>\n",
              "    </tr>\n",
              "    <tr>\n",
              "      <th>3</th>\n",
              "      <td>Portable Bluetooth Speakers</td>\n",
              "      <td>Bluetooth &amp; Wireless Speakers</td>\n",
              "      <td>Portable Audio &amp; Video</td>\n",
              "    </tr>\n",
              "    <tr>\n",
              "      <th>4</th>\n",
              "      <td>Photography</td>\n",
              "      <td>Photography Bags Cases</td>\n",
              "      <td>Camera Bags</td>\n",
              "    </tr>\n",
              "    <tr>\n",
              "      <th>5</th>\n",
              "      <td>Computers</td>\n",
              "      <td>Memory (RAM)</td>\n",
              "      <td>Computers &amp; Accessories</td>\n",
              "    </tr>\n",
              "    <tr>\n",
              "      <th>6</th>\n",
              "      <td>Portable Bluetooth Speakers</td>\n",
              "      <td>Stereos</td>\n",
              "      <td>Computers</td>\n",
              "    </tr>\n",
              "    <tr>\n",
              "      <th>7</th>\n",
              "      <td>Computers</td>\n",
              "      <td>Networking</td>\n",
              "      <td>Home Networking &amp; Connectivity</td>\n",
              "    </tr>\n",
              "    <tr>\n",
              "      <th>8</th>\n",
              "      <td>Electronics</td>\n",
              "      <td>Portable Audio</td>\n",
              "      <td>Auto &amp; Tires</td>\n",
              "    </tr>\n",
              "    <tr>\n",
              "      <th>9</th>\n",
              "      <td>Electronics</td>\n",
              "      <td>Car &amp; Vehicle Electronics</td>\n",
              "      <td>Car Electronics</td>\n",
              "    </tr>\n",
              "  </tbody>\n",
              "</table>\n",
              "</div>"
            ],
            "text/plain": [
              "                    prod_cat_1  ...                      prod_cat_3\n",
              "0                  Electronics  ...            Computer Accessories\n",
              "1                  Electronics  ...            Home Audio & Theater\n",
              "2    Audio & Video Accessories  ...          TV Accessories & Parts\n",
              "3  Portable Bluetooth Speakers  ...          Portable Audio & Video\n",
              "4                  Photography  ...                     Camera Bags\n",
              "5                    Computers  ...         Computers & Accessories\n",
              "6  Portable Bluetooth Speakers  ...                       Computers\n",
              "7                    Computers  ...  Home Networking & Connectivity\n",
              "8                  Electronics  ...                    Auto & Tires\n",
              "9                  Electronics  ...                 Car Electronics\n",
              "\n",
              "[10 rows x 3 columns]"
            ]
          },
          "metadata": {},
          "execution_count": 35
        }
      ]
    },
    {
      "cell_type": "code",
      "metadata": {
        "colab": {
          "base_uri": "https://localhost:8080/",
          "height": 431
        },
        "id": "ZqxEjnLczdLo",
        "outputId": "f7f130c4-f51e-458d-be86-9fb6ccdbba9c"
      },
      "source": [
        "# Redoing operation, in this case merging the output with the original table\n",
        "df_amzn_products.categories.str.split(pat=\",\",expand=True,n=3)\\\n",
        "  .iloc[:,0:3]\\\n",
        "  .rename({0:\"prod_cat_1\",1:\"prod_cat_2\",2:\"prod_cat_3\"},axis='columns')\\\n",
        "  .join(df_amzn_products)\\\n",
        "  .loc[:,['asin','brand','prod_cat_1','prod_cat_2','prod_cat_3']]"
      ],
      "execution_count": null,
      "outputs": [
        {
          "output_type": "execute_result",
          "data": {
            "text/html": [
              "<div>\n",
              "<style scoped>\n",
              "    .dataframe tbody tr th:only-of-type {\n",
              "        vertical-align: middle;\n",
              "    }\n",
              "\n",
              "    .dataframe tbody tr th {\n",
              "        vertical-align: top;\n",
              "    }\n",
              "\n",
              "    .dataframe thead th {\n",
              "        text-align: right;\n",
              "    }\n",
              "</style>\n",
              "<table border=\"1\" class=\"dataframe\">\n",
              "  <thead>\n",
              "    <tr style=\"text-align: right;\">\n",
              "      <th></th>\n",
              "      <th>asin</th>\n",
              "      <th>brand</th>\n",
              "      <th>prod_cat_1</th>\n",
              "      <th>prod_cat_2</th>\n",
              "      <th>prod_cat_3</th>\n",
              "    </tr>\n",
              "  </thead>\n",
              "  <tbody>\n",
              "    <tr>\n",
              "      <th>0</th>\n",
              "      <td>B0168YIWSI</td>\n",
              "      <td>Microsoft</td>\n",
              "      <td>Electronics</td>\n",
              "      <td>Computers</td>\n",
              "      <td>Computer Accessories</td>\n",
              "    </tr>\n",
              "    <tr>\n",
              "      <th>1</th>\n",
              "      <td>B018K251JE,B00VILQKQ8</td>\n",
              "      <td>Boytone</td>\n",
              "      <td>Electronics</td>\n",
              "      <td>Portable Audio &amp; Video</td>\n",
              "      <td>Home Audio &amp; Theater</td>\n",
              "    </tr>\n",
              "    <tr>\n",
              "      <th>2</th>\n",
              "      <td>B00C78VIUE</td>\n",
              "      <td>Sanus</td>\n",
              "      <td>Audio &amp; Video Accessories</td>\n",
              "      <td>TV Mounts</td>\n",
              "      <td>TV Accessories &amp; Parts</td>\n",
              "    </tr>\n",
              "    <tr>\n",
              "      <th>3</th>\n",
              "      <td>B075WKS4D8</td>\n",
              "      <td>Ultimate Ears</td>\n",
              "      <td>Portable Bluetooth Speakers</td>\n",
              "      <td>Bluetooth &amp; Wireless Speakers</td>\n",
              "      <td>Portable Audio &amp; Video</td>\n",
              "    </tr>\n",
              "    <tr>\n",
              "      <th>4</th>\n",
              "      <td>B000YA33DC</td>\n",
              "      <td>Lowepro</td>\n",
              "      <td>Photography</td>\n",
              "      <td>Photography Bags Cases</td>\n",
              "      <td>Camera Bags</td>\n",
              "    </tr>\n",
              "    <tr>\n",
              "      <th>5</th>\n",
              "      <td>B00505EZYW</td>\n",
              "      <td>Corsair</td>\n",
              "      <td>Computers</td>\n",
              "      <td>Memory (RAM)</td>\n",
              "      <td>Computers &amp; Accessories</td>\n",
              "    </tr>\n",
              "    <tr>\n",
              "      <th>6</th>\n",
              "      <td>B00WBS31OQ</td>\n",
              "      <td>Sdi Technologies, Inc.</td>\n",
              "      <td>Portable Bluetooth Speakers</td>\n",
              "      <td>Stereos</td>\n",
              "      <td>Computers</td>\n",
              "    </tr>\n",
              "    <tr>\n",
              "      <th>7</th>\n",
              "      <td>B0172DS3ME,B00NTJKAXG</td>\n",
              "      <td>Verizon Wireless</td>\n",
              "      <td>Computers</td>\n",
              "      <td>Networking</td>\n",
              "      <td>Home Networking &amp; Connectivity</td>\n",
              "    </tr>\n",
              "    <tr>\n",
              "      <th>8</th>\n",
              "      <td>B00R5WGT2E</td>\n",
              "      <td>JVC</td>\n",
              "      <td>Electronics</td>\n",
              "      <td>Portable Audio</td>\n",
              "      <td>Auto &amp; Tires</td>\n",
              "    </tr>\n",
              "    <tr>\n",
              "      <th>9</th>\n",
              "      <td>B00V631478</td>\n",
              "      <td>JBL</td>\n",
              "      <td>Electronics</td>\n",
              "      <td>Car &amp; Vehicle Electronics</td>\n",
              "      <td>Car Electronics</td>\n",
              "    </tr>\n",
              "  </tbody>\n",
              "</table>\n",
              "</div>"
            ],
            "text/plain": [
              "                    asin  ...                      prod_cat_3\n",
              "0             B0168YIWSI  ...            Computer Accessories\n",
              "1  B018K251JE,B00VILQKQ8  ...            Home Audio & Theater\n",
              "2             B00C78VIUE  ...          TV Accessories & Parts\n",
              "3             B075WKS4D8  ...          Portable Audio & Video\n",
              "4             B000YA33DC  ...                     Camera Bags\n",
              "5             B00505EZYW  ...         Computers & Accessories\n",
              "6             B00WBS31OQ  ...                       Computers\n",
              "7  B0172DS3ME,B00NTJKAXG  ...  Home Networking & Connectivity\n",
              "8             B00R5WGT2E  ...                    Auto & Tires\n",
              "9             B00V631478  ...                 Car Electronics\n",
              "\n",
              "[10 rows x 5 columns]"
            ]
          },
          "metadata": {},
          "execution_count": 41
        }
      ]
    },
    {
      "cell_type": "markdown",
      "metadata": {
        "id": "UJFehThgLUq1"
      },
      "source": [
        "# 5. Exercises\n",
        "---\n",
        "> 👉 Solutions to exercises are available [here](https://nbviewer.org/github/SomosDataWizards/Python-Intro-Course/blob/main/Chapter_4_Exercises.ipynb)"
      ]
    },
    {
      "cell_type": "markdown",
      "metadata": {
        "id": "3P0IpVyELsJm"
      },
      "source": [
        "### Exercise #1\n",
        "\n",
        "A. Identify columns with null observations in DataFrame.  \n",
        "\n",
        "B. Select only fields *movie_title, director_name, imdb_score*. Remove observations with null values on any of those fields.  \n",
        "\n",
        "> Dataset https://data-wizards.s3.amazonaws.com/datasets/movies.csv\n"
      ]
    },
    {
      "cell_type": "code",
      "metadata": {
        "colab": {
          "base_uri": "https://localhost:8080/"
        },
        "id": "VKtAiVMuMeDj",
        "outputId": "fd2ea200-7c6d-4923-9351-b54457036ebb"
      },
      "source": [
        "import pandas as pd\n",
        "df_movies = pd.read_csv(\"https://data-wizards.s3.amazonaws.com/datasets/movies.csv\")\n",
        "df_movies.dtypes"
      ],
      "execution_count": null,
      "outputs": [
        {
          "output_type": "execute_result",
          "data": {
            "text/plain": [
              "color                         object\n",
              "director_name                 object\n",
              "num_critic_for_reviews       float64\n",
              "duration                     float64\n",
              "director_facebook_likes      float64\n",
              "actor_3_facebook_likes       float64\n",
              "actor_2_name                  object\n",
              "actor_1_facebook_likes       float64\n",
              "gross                        float64\n",
              "genres                        object\n",
              "actor_1_name                  object\n",
              "movie_title                   object\n",
              "num_voted_users                int64\n",
              "cast_total_facebook_likes      int64\n",
              "actor_3_name                  object\n",
              "facenumber_in_poster         float64\n",
              "plot_keywords                 object\n",
              "movie_imdb_link               object\n",
              "num_user_for_reviews         float64\n",
              "language                      object\n",
              "country                       object\n",
              "content_rating                object\n",
              "budget                       float64\n",
              "title_year                   float64\n",
              "actor_2_facebook_likes       float64\n",
              "imdb_score                   float64\n",
              "aspect_ratio                 float64\n",
              "movie_facebook_likes           int64\n",
              "dtype: object"
            ]
          },
          "metadata": {},
          "execution_count": 15
        }
      ]
    },
    {
      "cell_type": "markdown",
      "metadata": {
        "id": "dWB3DEZeJf_C"
      },
      "source": [
        "### Exercise #2\n",
        "\n",
        "Identify companies that are outliers in terms of number of employees:  \n",
        "\n",
        "A. Using normal distribution  \n",
        "B. Using IQR  \n",
        "\n",
        "> Dataset https://data-wizards.s3.amazonaws.com/datasets/fortune1000.csv"
      ]
    },
    {
      "cell_type": "code",
      "metadata": {
        "colab": {
          "base_uri": "https://localhost:8080/"
        },
        "id": "heuEombEKjVo",
        "outputId": "78b8d356-5196-467b-ec7a-58b7668b44c9"
      },
      "source": [
        "import pandas as pd\n",
        "from scipy import stats\n",
        "df_fortune = pd.read_csv('https://data-wizards.s3.amazonaws.com/datasets/fortune1000.csv')\n",
        "df_fortune.dtypes"
      ],
      "execution_count": 1,
      "outputs": [
        {
          "output_type": "execute_result",
          "data": {
            "text/plain": [
              "Rank          int64\n",
              "Company      object\n",
              "Sector       object\n",
              "Industry     object\n",
              "Location     object\n",
              "Revenue       int64\n",
              "Profits       int64\n",
              "Employees     int64\n",
              "dtype: object"
            ]
          },
          "metadata": {},
          "execution_count": 1
        }
      ]
    }
  ]
}